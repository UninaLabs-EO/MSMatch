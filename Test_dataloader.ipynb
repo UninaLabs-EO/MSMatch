{
 "cells": [
  {
   "cell_type": "code",
   "execution_count": 1,
   "metadata": {},
   "outputs": [
    {
     "name": "stderr",
     "output_type": "stream",
     "text": [
      "/home/warmachine/anaconda3/envs/torchmatch/lib/python3.8/site-packages/tqdm/auto.py:22: TqdmWarning: IProgress not found. Please update jupyter and ipywidgets. See https://ipywidgets.readthedocs.io/en/stable/user_install.html\n",
      "  from .autonotebook import tqdm as notebook_tqdm\n",
      "  0%|          | 0/2 [00:00<?, ?it/s]\n"
     ]
    },
    {
     "ename": "ValueError",
     "evalue": "could not broadcast input array from shape (256,256,3) into shape (512,512,3)",
     "output_type": "error",
     "traceback": [
      "\u001b[0;31m---------------------------------------------------------------------------\u001b[0m",
      "\u001b[0;31mValueError\u001b[0m                                Traceback (most recent call last)",
      "Cell \u001b[0;32mIn[1], line 20\u001b[0m\n\u001b[1;32m     15\u001b[0m \u001b[39m# Construct Dataset\u001b[39;00m\n\u001b[1;32m     16\u001b[0m train_dset \u001b[39m=\u001b[39m SSL_Dataset(\n\u001b[1;32m     17\u001b[0m        name\u001b[39m=\u001b[39m\u001b[39m'\u001b[39m\u001b[39mthraws_swir\u001b[39m\u001b[39m'\u001b[39m, train\u001b[39m=\u001b[39m\u001b[39mTrue\u001b[39;00m, data_dir\u001b[39m=\u001b[39m\u001b[39m'\u001b[39m\u001b[39m/data/PyDeepLearning/MSMatch/DATA/warmup_events_dataset\u001b[39m\u001b[39m'\u001b[39m, seed\u001b[39m=\u001b[39m\u001b[39m42\u001b[39m,\n\u001b[1;32m     18\u001b[0m        )\n\u001b[0;32m---> 20\u001b[0m lb_dset, ulb_dset \u001b[39m=\u001b[39m train_dset\u001b[39m.\u001b[39;49mget_ssl_dset(\u001b[39m10\u001b[39;49m)\n",
      "File \u001b[0;32m/data/PyDeepLearning/MSMatch/datasets/ssl_dataset.py:210\u001b[0m, in \u001b[0;36mSSL_Dataset.get_ssl_dset\u001b[0;34m(self, num_labels, index, include_lb_to_ulb, use_strong_transform, strong_transform, onehot)\u001b[0m\n\u001b[1;32m    184\u001b[0m \u001b[39mdef\u001b[39;00m \u001b[39mget_ssl_dset\u001b[39m(\n\u001b[1;32m    185\u001b[0m     \u001b[39mself\u001b[39m,\n\u001b[1;32m    186\u001b[0m     num_labels,\n\u001b[0;32m   (...)\u001b[0m\n\u001b[1;32m    191\u001b[0m     onehot\u001b[39m=\u001b[39m\u001b[39mFalse\u001b[39;00m,\n\u001b[1;32m    192\u001b[0m ):\n\u001b[1;32m    193\u001b[0m \u001b[39m    \u001b[39m\u001b[39m\"\"\"\u001b[39;00m\n\u001b[1;32m    194\u001b[0m \u001b[39m    get_ssl_dset split training samples into labeled and unlabeled samples.\u001b[39;00m\n\u001b[1;32m    195\u001b[0m \u001b[39m    The labeled data is balanced samples over classes.\u001b[39;00m\n\u001b[0;32m   (...)\u001b[0m\n\u001b[1;32m    207\u001b[0m \u001b[39m        BasicDataset (for labeled data), BasicDataset (for unlabeld data)\u001b[39;00m\n\u001b[1;32m    208\u001b[0m \u001b[39m    \"\"\"\u001b[39;00m\n\u001b[0;32m--> 210\u001b[0m     data, targets \u001b[39m=\u001b[39m \u001b[39mself\u001b[39;49m\u001b[39m.\u001b[39;49mget_data()\n\u001b[1;32m    211\u001b[0m     num_classes \u001b[39m=\u001b[39m \u001b[39mself\u001b[39m\u001b[39m.\u001b[39mnum_classes\n\u001b[1;32m    212\u001b[0m     transform \u001b[39m=\u001b[39m \u001b[39mself\u001b[39m\u001b[39m.\u001b[39mtransform\n",
      "File \u001b[0;32m/data/PyDeepLearning/MSMatch/datasets/ssl_dataset.py:142\u001b[0m, in \u001b[0;36mSSL_Dataset.get_data\u001b[0;34m(self)\u001b[0m\n\u001b[1;32m    140\u001b[0m     dset \u001b[39m=\u001b[39m EurosatDataset(train\u001b[39m=\u001b[39m\u001b[39mself\u001b[39m\u001b[39m.\u001b[39mtrain, seed\u001b[39m=\u001b[39m\u001b[39mself\u001b[39m\u001b[39m.\u001b[39mseed)\n\u001b[1;32m    141\u001b[0m \u001b[39melif\u001b[39;00m \u001b[39mself\u001b[39m\u001b[39m.\u001b[39mname \u001b[39m==\u001b[39m \u001b[39m\"\u001b[39m\u001b[39mthraws_swir\u001b[39m\u001b[39m\"\u001b[39m:\n\u001b[0;32m--> 142\u001b[0m     dset \u001b[39m=\u001b[39m ThrawsB8AB11B12Dataset(train\u001b[39m=\u001b[39;49m\u001b[39mself\u001b[39;49m\u001b[39m.\u001b[39;49mtrain, seed\u001b[39m=\u001b[39;49m\u001b[39mself\u001b[39;49m\u001b[39m.\u001b[39;49mseed)\n\u001b[1;32m    145\u001b[0m \u001b[39mif\u001b[39;00m \u001b[39mself\u001b[39m\u001b[39m.\u001b[39mname \u001b[39m==\u001b[39m \u001b[39m\"\u001b[39m\u001b[39mcifar10\u001b[39m\u001b[39m\"\u001b[39m:\n\u001b[1;32m    146\u001b[0m     \u001b[39mself\u001b[39m\u001b[39m.\u001b[39mlabel_encoding \u001b[39m=\u001b[39m \u001b[39mNone\u001b[39;00m\n",
      "File \u001b[0;32m/data/PyDeepLearning/MSMatch/datasets/thraws_B8AB11B12_dataset.py:34\u001b[0m, in \u001b[0;36mThrawsB8AB11B12Dataset.__init__\u001b[0;34m(self, train, root_dir, transform, seed)\u001b[0m\n\u001b[1;32m     32\u001b[0m \u001b[39mself\u001b[39m\u001b[39m.\u001b[39mtrain \u001b[39m=\u001b[39m train\n\u001b[1;32m     33\u001b[0m \u001b[39mself\u001b[39m\u001b[39m.\u001b[39mN \u001b[39m=\u001b[39m \u001b[39m4528\u001b[39m\n\u001b[0;32m---> 34\u001b[0m \u001b[39mself\u001b[39;49m\u001b[39m.\u001b[39;49m_load_data()\n",
      "File \u001b[0;32m/data/PyDeepLearning/MSMatch/datasets/thraws_B8AB11B12_dataset.py:53\u001b[0m, in \u001b[0;36mThrawsB8AB11B12Dataset._load_data\u001b[0;34m(self)\u001b[0m\n\u001b[1;32m     51\u001b[0m filenames\u001b[39m.\u001b[39mappend(sub_f)\n\u001b[1;32m     52\u001b[0m \u001b[39m# a few images are a few pixels off, we will resize them\u001b[39;00m\n\u001b[0;32m---> 53\u001b[0m images[i] \u001b[39m=\u001b[39m pd\u001b[39m.\u001b[39mread_pickle(sub_f)\n\u001b[1;32m     54\u001b[0m i \u001b[39m+\u001b[39m\u001b[39m=\u001b[39m \u001b[39m1\u001b[39m\n\u001b[1;32m     55\u001b[0m labels\u001b[39m.\u001b[39mappend(item)\n",
      "\u001b[0;31mValueError\u001b[0m: could not broadcast input array from shape (256,256,3) into shape (512,512,3)"
     ]
    }
   ],
   "source": [
    "# import needed library\n",
    "import os\n",
    "import logging\n",
    "import random\n",
    "import warnings\n",
    "\n",
    "\n",
    "\n",
    "\n",
    "\n",
    "from datasets.ssl_dataset import SSL_Dataset\n",
    "from datasets.data_utils import get_data_loader\n",
    "\n",
    "\n",
    "# Construct Dataset\n",
    "train_dset = SSL_Dataset(\n",
    "       name='thraws_swir', train=True, data_dir='/data/PyDeepLearning/MSMatch/DATA/warmup_events_dataset', seed=42,\n",
    "       )\n",
    "\n",
    "lb_dset, ulb_dset = train_dset.get_ssl_dset(10)"
   ]
  },
  {
   "cell_type": "code",
   "execution_count": null,
   "metadata": {},
   "outputs": [],
   "source": []
  }
 ],
 "metadata": {
  "kernelspec": {
   "display_name": "torchmatch",
   "language": "python",
   "name": "python3"
  },
  "language_info": {
   "codemirror_mode": {
    "name": "ipython",
    "version": 3
   },
   "file_extension": ".py",
   "mimetype": "text/x-python",
   "name": "python",
   "nbconvert_exporter": "python",
   "pygments_lexer": "ipython3",
   "version": "3.8.16"
  },
  "orig_nbformat": 4,
  "vscode": {
   "interpreter": {
    "hash": "6f089bd9dd64c64a596dcf4fa17b0be0e9f2df9fd16615c142b00bb66e7ee54f"
   }
  }
 },
 "nbformat": 4,
 "nbformat_minor": 2
}
