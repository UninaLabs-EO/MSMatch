{
 "cells": [
  {
   "cell_type": "code",
   "execution_count": 1,
   "metadata": {},
   "outputs": [],
   "source": [
    "%%capture\n",
    "%load_ext autoreload\n",
    "%autoreload 2\n",
    "#Basic Imports\n",
    "import os,sys\n",
    "os.chdir(\"..\")\n",
    "\n",
    "from tqdm import tqdm,trange\n",
    "import numpy as np\n",
    "import matplotlib.pyplot as plt\n",
    "from sklearn.metrics import classification_report,confusion_matrix, ConfusionMatrixDisplay\n",
    "import torch\n",
    "import pandas\n",
    "\n",
    "from datasets.ssl_dataset import SSL_Dataset\n",
    "from datasets.data_utils import get_data_loader\n",
    "from utils import get_model_checkpoints\n",
    "from utils import net_builder\n",
    "from utils import manipulate_df"
   ]
  },
  {
   "cell_type": "code",
   "execution_count": 10,
   "metadata": {},
   "outputs": [],
   "source": [
    "#Path to the runs to load\n",
    "csv_folder = \"/home/gabrielemeoni/project/SSLRS/test\"\n",
    "folder = \"/scratch/fixmatch_results/nr_of_labels/eurosat_ms/\"\n",
    "sort_criteria = \"numlabels\" # Accepted net, numlabels"
   ]
  },
  {
   "cell_type": "markdown",
   "metadata": {},
   "source": [
    "## Initialize parameters"
   ]
  },
  {
   "cell_type": "code",
   "execution_count": 11,
   "metadata": {},
   "outputs": [
    {
     "name": "stdout",
     "output_type": "stream",
     "text": [
      "scratch\n",
      "scratch\n",
      "scratch\n",
      "scratch\n",
      "scratch\n",
      "scratch\n"
     ]
    }
   ],
   "source": [
    "checkpoints, run_args = get_model_checkpoints(folder)\n",
    "if os.name == 'nt':\n",
    "       [print(_.split(\"\\\\\")[1]) for _ in checkpoints];\n",
    "else:\n",
    "       [print(_.split(\"/\")[1]) for _ in checkpoints];"
   ]
  },
  {
   "cell_type": "markdown",
   "metadata": {},
   "source": [
    "## Run all models"
   ]
  },
  {
   "cell_type": "code",
   "execution_count": 12,
   "metadata": {},
   "outputs": [
    {
     "name": "stderr",
     "output_type": "stream",
     "text": [
      "\r",
      "  0%|          | 0/10 [00:00<?, ?it/s]"
     ]
    },
    {
     "name": "stdout",
     "output_type": "stream",
     "text": [
      "------------ RUNNING  /scratch/fixmatch_results/nr_of_labels/eurosat_ms/FixMatch_archefficientnet-b2_batch32_confidence0.95_lr0.03_uratio7_wd0.0001_wu1.0_seed0_numlabels500_optSGD/model_best.pth  -----------------\n",
      "{'dataset': 'eurosat_ms', 'net': 'efficientnet-b2', 'batch': 32, 'confidence': 0.95, 'lr': 0.03, 'uratio': 7, 'wd': 0.0001, 'wu': 1.0, 'seed': 0, 'numlabels': 500, 'opt': 'SGD', 'iterations': 260000}\n",
      "Using not pretrained model efficientnet-b2 ...\n"
     ]
    },
    {
     "name": "stderr",
     "output_type": "stream",
     "text": [
      "100%|██████████| 10/10 [00:29<00:00,  3.00s/it]\n",
      "  0%|          | 0/11 [00:00<?, ?it/s]"
     ]
    },
    {
     "name": "stdout",
     "output_type": "stream",
     "text": [
      "------------ PREDICTING TESTSET -----------------\n"
     ]
    },
    {
     "name": "stderr",
     "output_type": "stream",
     "text": [
      "100%|██████████| 11/11 [00:02<00:00,  4.73it/s]\n",
      "  0%|          | 0/10 [00:00<?, ?it/s]"
     ]
    },
    {
     "name": "stdout",
     "output_type": "stream",
     "text": [
      "------------ RUNNING  /scratch/fixmatch_results/nr_of_labels/eurosat_ms/FixMatch_archefficientnet-b2_batch32_confidence0.95_lr0.03_uratio7_wd0.0001_wu1.0_seed0_numlabels50_optSGD/model_best.pth  -----------------\n",
      "{'dataset': 'eurosat_ms', 'net': 'efficientnet-b2', 'batch': 32, 'confidence': 0.95, 'lr': 0.03, 'uratio': 7, 'wd': 0.0001, 'wu': 1.0, 'seed': 0, 'numlabels': 50, 'opt': 'SGD', 'iterations': 285000}\n",
      "Using not pretrained model efficientnet-b2 ...\n"
     ]
    },
    {
     "name": "stderr",
     "output_type": "stream",
     "text": [
      "100%|██████████| 10/10 [00:29<00:00,  2.99s/it]\n",
      "  0%|          | 0/11 [00:00<?, ?it/s]"
     ]
    },
    {
     "name": "stdout",
     "output_type": "stream",
     "text": [
      "------------ PREDICTING TESTSET -----------------\n"
     ]
    },
    {
     "name": "stderr",
     "output_type": "stream",
     "text": [
      "100%|██████████| 11/11 [00:02<00:00,  4.88it/s]\n",
      "  0%|          | 0/10 [00:00<?, ?it/s]"
     ]
    },
    {
     "name": "stdout",
     "output_type": "stream",
     "text": [
      "------------ RUNNING  /scratch/fixmatch_results/nr_of_labels/eurosat_ms/FixMatch_archefficientnet-b2_batch32_confidence0.95_lr0.03_uratio7_wd0.0001_wu1.0_seed0_numlabels1000_optSGD/model_best.pth  -----------------\n",
      "{'dataset': 'eurosat_ms', 'net': 'efficientnet-b2', 'batch': 32, 'confidence': 0.95, 'lr': 0.03, 'uratio': 7, 'wd': 0.0001, 'wu': 1.0, 'seed': 0, 'numlabels': 1000, 'opt': 'SGD', 'iterations': 279000}\n",
      "Using not pretrained model efficientnet-b2 ...\n"
     ]
    },
    {
     "name": "stderr",
     "output_type": "stream",
     "text": [
      "100%|██████████| 10/10 [00:29<00:00,  2.94s/it]\n",
      "  0%|          | 0/11 [00:00<?, ?it/s]"
     ]
    },
    {
     "name": "stdout",
     "output_type": "stream",
     "text": [
      "------------ PREDICTING TESTSET -----------------\n"
     ]
    },
    {
     "name": "stderr",
     "output_type": "stream",
     "text": [
      "100%|██████████| 11/11 [00:02<00:00,  4.94it/s]\n",
      "  0%|          | 0/10 [00:00<?, ?it/s]"
     ]
    },
    {
     "name": "stdout",
     "output_type": "stream",
     "text": [
      "------------ RUNNING  /scratch/fixmatch_results/nr_of_labels/eurosat_ms/FixMatch_archefficientnet-b2_batch32_confidence0.95_lr0.03_uratio7_wd0.0001_wu1.0_seed0_numlabels100_optSGD/model_best.pth  -----------------\n",
      "{'dataset': 'eurosat_ms', 'net': 'efficientnet-b2', 'batch': 32, 'confidence': 0.95, 'lr': 0.03, 'uratio': 7, 'wd': 0.0001, 'wu': 1.0, 'seed': 0, 'numlabels': 100, 'opt': 'SGD', 'iterations': 294000}\n",
      "Using not pretrained model efficientnet-b2 ...\n"
     ]
    },
    {
     "name": "stderr",
     "output_type": "stream",
     "text": [
      "100%|██████████| 10/10 [00:29<00:00,  2.97s/it]\n",
      "  0%|          | 0/11 [00:00<?, ?it/s]"
     ]
    },
    {
     "name": "stdout",
     "output_type": "stream",
     "text": [
      "------------ PREDICTING TESTSET -----------------\n"
     ]
    },
    {
     "name": "stderr",
     "output_type": "stream",
     "text": [
      "100%|██████████| 11/11 [00:02<00:00,  4.69it/s]\n",
      "  0%|          | 0/10 [00:00<?, ?it/s]"
     ]
    },
    {
     "name": "stdout",
     "output_type": "stream",
     "text": [
      "------------ RUNNING  /scratch/fixmatch_results/nr_of_labels/eurosat_ms/FixMatch_archefficientnet-b2_batch32_confidence0.95_lr0.03_uratio7_wd0.0001_wu1.0_seed0_numlabels3000_optSGD/model_best.pth  -----------------\n",
      "{'dataset': 'eurosat_ms', 'net': 'efficientnet-b2', 'batch': 32, 'confidence': 0.95, 'lr': 0.03, 'uratio': 7, 'wd': 0.0001, 'wu': 1.0, 'seed': 0, 'numlabels': 3000, 'opt': 'SGD', 'iterations': 338000}\n",
      "Using not pretrained model efficientnet-b2 ...\n"
     ]
    },
    {
     "name": "stderr",
     "output_type": "stream",
     "text": [
      "100%|██████████| 10/10 [00:29<00:00,  3.00s/it]\n",
      "  0%|          | 0/11 [00:00<?, ?it/s]"
     ]
    },
    {
     "name": "stdout",
     "output_type": "stream",
     "text": [
      "------------ PREDICTING TESTSET -----------------\n"
     ]
    },
    {
     "name": "stderr",
     "output_type": "stream",
     "text": [
      "100%|██████████| 11/11 [00:02<00:00,  4.98it/s]\n",
      "  0%|          | 0/10 [00:00<?, ?it/s]"
     ]
    },
    {
     "name": "stdout",
     "output_type": "stream",
     "text": [
      "------------ RUNNING  /scratch/fixmatch_results/nr_of_labels/eurosat_ms/FixMatch_archefficientnet-b2_batch32_confidence0.95_lr0.03_uratio7_wd0.0001_wu1.0_seed0_numlabels2000_optSGD/model_best.pth  -----------------\n",
      "{'dataset': 'eurosat_ms', 'net': 'efficientnet-b2', 'batch': 32, 'confidence': 0.95, 'lr': 0.03, 'uratio': 7, 'wd': 0.0001, 'wu': 1.0, 'seed': 0, 'numlabels': 2000, 'opt': 'SGD', 'iterations': 368000}\n",
      "Using not pretrained model efficientnet-b2 ...\n"
     ]
    },
    {
     "name": "stderr",
     "output_type": "stream",
     "text": [
      "100%|██████████| 10/10 [00:29<00:00,  2.97s/it]\n",
      "  0%|          | 0/11 [00:00<?, ?it/s]"
     ]
    },
    {
     "name": "stdout",
     "output_type": "stream",
     "text": [
      "------------ PREDICTING TESTSET -----------------\n"
     ]
    },
    {
     "name": "stderr",
     "output_type": "stream",
     "text": [
      "100%|██████████| 11/11 [00:02<00:00,  4.68it/s]\n"
     ]
    }
   ],
   "source": [
    "results = []\n",
    "for checkpoint, args in zip(checkpoints,run_args):\n",
    "    print(\"------------ RUNNING \", checkpoint, \" -----------------\")\n",
    "    print(args)\n",
    "    args[\"batch_size\"] = 256\n",
    "    args[\"data_dir\"] = \"./data/\"\n",
    "    args[\"use_train_model\"] = False\n",
    "    args[\"load_path\"] = checkpoint\n",
    "    \n",
    "    checkpoint_path = os.path.join(args[\"load_path\"])\n",
    "    checkpoint = torch.load(checkpoint_path,map_location='cuda:0')\n",
    "    load_model = (checkpoint[\"train_model\"] if args[\"use_train_model\"] else checkpoint[\"eval_model\"])\n",
    "    _net_builder = net_builder(args[\"net\"],False,{})\n",
    "    _eval_dset = SSL_Dataset(name=args[\"dataset\"], train=False, data_dir=args[\"data_dir\"], seed=args[\"seed\"])\n",
    "    eval_dset = _eval_dset.get_dset()\n",
    "    net = _net_builder(num_classes=_eval_dset.num_classes, in_channels=_eval_dset.num_channels)\n",
    "    net.load_state_dict(load_model)\n",
    "    if torch.cuda.is_available():\n",
    "        net.cuda()\n",
    "    net.eval()\n",
    "\n",
    "    \n",
    "    \n",
    "\n",
    "    eval_loader = get_data_loader(eval_dset, args[\"batch_size\"], num_workers=1)\n",
    "    label_encoding = _eval_dset.label_encoding\n",
    "    inv_transf = _eval_dset.inv_transform\n",
    "\n",
    "    \n",
    "    print(\"------------ PREDICTING TESTSET -----------------\")\n",
    "    \n",
    "    images, labels, preds = [],[],[]\n",
    "    with torch.no_grad():\n",
    "        for image, target in tqdm(eval_loader):\n",
    "            image = image.type(torch.FloatTensor).cuda()\n",
    "            logit = net(image)\n",
    "            for idx,img in enumerate(image):\n",
    "                images.append(inv_transf(img.transpose(0,2).cpu().numpy()).transpose(0,2).numpy())\n",
    "            preds.append(logit.cpu().max(1)[1])\n",
    "            labels.append(target)\n",
    "    labels = torch.cat(labels).numpy()\n",
    "    preds = torch.cat(preds).numpy()\n",
    "    test_report = classification_report(labels, preds, target_names=label_encoding, output_dict=True)\n",
    "    test_report[\"params\"] = args\n",
    "    results.append(test_report)"
   ]
  },
  {
   "cell_type": "code",
   "execution_count": 13,
   "metadata": {},
   "outputs": [
    {
     "name": "stdout",
     "output_type": "stream",
     "text": [
      "            AnnualCrop    Forest  HerbaceousVegetation   Highway  Industrial  \\\n",
      "dataset                                                                        \n",
      "eurosat_ms    0.935961  0.971332              0.898734  0.767544    0.934615   \n",
      "eurosat_ms    0.453202  0.694239              0.559567  0.139706    0.797227   \n",
      "eurosat_ms    0.954622  0.981758              0.944262  0.916836    0.964286   \n",
      "eurosat_ms    0.537037  0.834983              0.748201  0.440415    0.828319   \n",
      "eurosat_ms    0.981878  0.991653              0.968801  0.946058    0.970179   \n",
      "eurosat_ms    0.969005  0.996656              0.967320  0.943089    0.971545   \n",
      "\n",
      "             Pasture  PermanentCrop  Residential     River   SeaLake  \\\n",
      "dataset                                                                \n",
      "eurosat_ms  0.898824       0.892704     0.955810  0.925253  0.984823   \n",
      "eurosat_ms  0.382022       0.557241     0.794275  0.694639  0.887556   \n",
      "eurosat_ms  0.945000       0.934426     0.978512  0.958580  0.984874   \n",
      "eurosat_ms  0.721604       0.615635     0.818018  0.803313  0.894309   \n",
      "eurosat_ms  0.952618       0.947791     0.981878  0.963855  0.989933   \n",
      "eurosat_ms  0.943210       0.933884     0.978793  0.957746  0.989899   \n",
      "\n",
      "            accuracy  macro avg  weighted avg params              net  batch  \\\n",
      "dataset                                                                        \n",
      "eurosat_ms  0.921111   0.916560      0.919923    NaN  efficientnet-b2     32   \n",
      "eurosat_ms  0.630370   0.595968      0.607504    NaN  efficientnet-b2     32   \n",
      "eurosat_ms  0.957778   0.956316      0.957682    NaN  efficientnet-b2     32   \n",
      "eurosat_ms  0.738889   0.724183      0.728150    NaN  efficientnet-b2     32   \n",
      "eurosat_ms  0.971111   0.969465      0.971014    NaN  efficientnet-b2     32   \n",
      "eurosat_ms  0.967037   0.965115      0.966930    NaN  efficientnet-b2     32   \n",
      "\n",
      "            confidence    lr  uratio      wd   wu  seed  numlabels  opt  \\\n",
      "dataset                                                                   \n",
      "eurosat_ms        0.95  0.03       7  0.0001  1.0     0        500  SGD   \n",
      "eurosat_ms        0.95  0.03       7  0.0001  1.0     0         50  SGD   \n",
      "eurosat_ms        0.95  0.03       7  0.0001  1.0     0       1000  SGD   \n",
      "eurosat_ms        0.95  0.03       7  0.0001  1.0     0        100  SGD   \n",
      "eurosat_ms        0.95  0.03       7  0.0001  1.0     0       3000  SGD   \n",
      "eurosat_ms        0.95  0.03       7  0.0001  1.0     0       2000  SGD   \n",
      "\n",
      "            iterations  batch_size data_dir  use_train_model  \\\n",
      "dataset                                                        \n",
      "eurosat_ms      260000         256  ./data/            False   \n",
      "eurosat_ms      285000         256  ./data/            False   \n",
      "eurosat_ms      279000         256  ./data/            False   \n",
      "eurosat_ms      294000         256  ./data/            False   \n",
      "eurosat_ms      338000         256  ./data/            False   \n",
      "eurosat_ms      368000         256  ./data/            False   \n",
      "\n",
      "                                                    load_path  \n",
      "dataset                                                        \n",
      "eurosat_ms  /scratch/fixmatch_results/nr_of_labels/eurosat...  \n",
      "eurosat_ms  /scratch/fixmatch_results/nr_of_labels/eurosat...  \n",
      "eurosat_ms  /scratch/fixmatch_results/nr_of_labels/eurosat...  \n",
      "eurosat_ms  /scratch/fixmatch_results/nr_of_labels/eurosat...  \n",
      "eurosat_ms  /scratch/fixmatch_results/nr_of_labels/eurosat...  \n",
      "eurosat_ms  /scratch/fixmatch_results/nr_of_labels/eurosat...  \n"
     ]
    }
   ],
   "source": [
    "import pandas as pd\n",
    "big_df = pd.DataFrame()\n",
    "pd.set_option('display.max_columns', None)\n",
    "for result in results:\n",
    "    params = result[\"params\"]\n",
    "    df = pd.DataFrame(result)\n",
    "    df.drop(list(params.keys()),inplace=True)\n",
    "    df.drop([\"support\",\"recall\",\"precision\"],inplace=True)\n",
    "    for key,val in params.items():\n",
    "        df[key] = val\n",
    "    df = df.set_index(\"dataset\")\n",
    "    big_df = big_df.append(df)\n",
    "print(big_df)\n",
    "small_df = pd.DataFrame.from_dict(manipulate_df(big_df, folder,sort_criteria))\n",
    "small_df.to_csv(csv_folder + \"_test_results.csv\")"
   ]
  }
 ],
 "metadata": {
  "kernelspec": {
   "display_name": "Python 3",
   "language": "python",
   "name": "python3"
  },
  "language_info": {
   "codemirror_mode": {
    "name": "ipython",
    "version": 3
   },
   "file_extension": ".py",
   "mimetype": "text/x-python",
   "name": "python",
   "nbconvert_exporter": "python",
   "pygments_lexer": "ipython3",
   "version": "3.8.6"
  }
 },
 "nbformat": 4,
 "nbformat_minor": 4
}
