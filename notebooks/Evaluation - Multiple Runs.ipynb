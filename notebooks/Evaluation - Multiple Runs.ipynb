{
 "cells": [
  {
   "cell_type": "code",
   "execution_count": 1,
   "metadata": {},
   "outputs": [],
   "source": [
    "%%capture\n",
    "%load_ext autoreload\n",
    "%autoreload 2\n",
    "#Basic Imports\n",
    "import os,sys\n",
    "os.chdir(\"..\")\n",
    "\n",
    "from tqdm import tqdm,trange\n",
    "import numpy as np\n",
    "import matplotlib.pyplot as plt\n",
    "from sklearn.metrics import classification_report,confusion_matrix, ConfusionMatrixDisplay\n",
    "import torch\n",
    "import pandas\n",
    "\n",
    "from datasets.ssl_dataset import SSL_Dataset\n",
    "from datasets.data_utils import get_data_loader\n",
    "from utils import get_model_checkpoints\n",
    "from utils import net_builder"
   ]
  },
  {
   "cell_type": "code",
   "execution_count": 2,
   "metadata": {},
   "outputs": [],
   "source": [
    "#Path to the runs to load\n",
    "csv_folder = \"/home/gabrielemeoni/project/SSLRS/test\"\n",
    "folder = \"/scratch/fixmatch_results/nr_of_labels_supervised/eurosat_rgb\""
   ]
  },
  {
   "cell_type": "markdown",
   "metadata": {},
   "source": [
    "## Initialize parameters"
   ]
  },
  {
   "cell_type": "code",
   "execution_count": 3,
   "metadata": {},
   "outputs": [
    {
     "name": "stdout",
     "output_type": "stream",
     "text": [
      "scratch\n",
      "scratch\n",
      "scratch\n",
      "scratch\n",
      "scratch\n"
     ]
    }
   ],
   "source": [
    "checkpoints, run_args = get_model_checkpoints(folder)\n",
    "[print(_.split(\"/\")[1]) for _ in checkpoints];"
   ]
  },
  {
   "cell_type": "markdown",
   "metadata": {},
   "source": [
    "## Run all models"
   ]
  },
  {
   "cell_type": "code",
   "execution_count": 4,
   "metadata": {},
   "outputs": [
    {
     "name": "stdout",
     "output_type": "stream",
     "text": [
      "------------ RUNNING  /scratch/fixmatch_results/nr_of_labels_supervised/eurosat_rgb/FixMatch_archefficientnet-b2_batch32_confidence0.95_lr0.03_nclass10_uratio7_wd0.0001_wu0.0_seed0_numlabels100_optSGD/model_best.pth  -----------------\n",
      "{'dataset': 'eurosat_rgb', 'net': 'efficientnet-b2', 'batch': 32, 'confidence': 0.95, 'lr': 0.03, 'num_classes': 10, 'uratio': 7, 'wd': 0.0001, 'wu': 0.0, 'seed': 0, 'numlabels': 100, 'opt': 'SGD', 'iterations': 496000}\n"
     ]
    },
    {
     "name": "stderr",
     "output_type": "stream",
     "text": [
      "  0%|          | 0/10 [00:00<?, ?it/s]"
     ]
    },
    {
     "name": "stdout",
     "output_type": "stream",
     "text": [
      "Using not pretrained model efficientnet-b2 ...\n"
     ]
    },
    {
     "name": "stderr",
     "output_type": "stream",
     "text": [
      "100%|██████████| 10/10 [00:09<00:00,  1.10it/s]\n",
      "  0%|          | 0/11 [00:00<?, ?it/s]"
     ]
    },
    {
     "name": "stdout",
     "output_type": "stream",
     "text": [
      "------------ PREDICTING TESTSET -----------------\n"
     ]
    },
    {
     "name": "stderr",
     "output_type": "stream",
     "text": [
      "100%|██████████| 11/11 [00:01<00:00,  8.87it/s]\n"
     ]
    },
    {
     "name": "stdout",
     "output_type": "stream",
     "text": [
      "------------ RUNNING  /scratch/fixmatch_results/nr_of_labels_supervised/eurosat_rgb/FixMatch_archefficientnet-b2_batch32_confidence0.95_lr0.03_nclass10_uratio7_wd0.0001_wu0.0_seed0_numlabels2000_optSGD/model_best.pth  -----------------\n",
      "{'dataset': 'eurosat_rgb', 'net': 'efficientnet-b2', 'batch': 32, 'confidence': 0.95, 'lr': 0.03, 'num_classes': 10, 'uratio': 7, 'wd': 0.0001, 'wu': 0.0, 'seed': 0, 'numlabels': 2000, 'opt': 'SGD', 'iterations': 66000}\n",
      "Using not pretrained model efficientnet-b2 ...\n"
     ]
    },
    {
     "name": "stderr",
     "output_type": "stream",
     "text": [
      "100%|██████████| 10/10 [00:09<00:00,  1.10it/s]\n",
      "  0%|          | 0/11 [00:00<?, ?it/s]"
     ]
    },
    {
     "name": "stdout",
     "output_type": "stream",
     "text": [
      "------------ PREDICTING TESTSET -----------------\n"
     ]
    },
    {
     "name": "stderr",
     "output_type": "stream",
     "text": [
      "100%|██████████| 11/11 [00:01<00:00,  8.63it/s]\n"
     ]
    },
    {
     "name": "stdout",
     "output_type": "stream",
     "text": [
      "------------ RUNNING  /scratch/fixmatch_results/nr_of_labels_supervised/eurosat_rgb/FixMatch_archefficientnet-b2_batch32_confidence0.95_lr0.03_nclass10_uratio7_wd0.0001_wu0.0_seed0_numlabels50_optSGD/model_best.pth  -----------------\n",
      "{'dataset': 'eurosat_rgb', 'net': 'efficientnet-b2', 'batch': 32, 'confidence': 0.95, 'lr': 0.03, 'num_classes': 10, 'uratio': 7, 'wd': 0.0001, 'wu': 0.0, 'seed': 0, 'numlabels': 50, 'opt': 'SGD', 'iterations': 206000}\n",
      "Using not pretrained model efficientnet-b2 ...\n"
     ]
    },
    {
     "name": "stderr",
     "output_type": "stream",
     "text": [
      "100%|██████████| 10/10 [00:09<00:00,  1.11it/s]\n",
      "  0%|          | 0/11 [00:00<?, ?it/s]"
     ]
    },
    {
     "name": "stdout",
     "output_type": "stream",
     "text": [
      "------------ PREDICTING TESTSET -----------------\n"
     ]
    },
    {
     "name": "stderr",
     "output_type": "stream",
     "text": [
      "100%|██████████| 11/11 [00:01<00:00,  8.43it/s]\n"
     ]
    },
    {
     "name": "stdout",
     "output_type": "stream",
     "text": [
      "------------ RUNNING  /scratch/fixmatch_results/nr_of_labels_supervised/eurosat_rgb/FixMatch_archefficientnet-b2_batch32_confidence0.95_lr0.03_nclass10_uratio7_wd0.0001_wu0.0_seed0_numlabels1000_optSGD/model_best.pth  -----------------\n",
      "{'dataset': 'eurosat_rgb', 'net': 'efficientnet-b2', 'batch': 32, 'confidence': 0.95, 'lr': 0.03, 'num_classes': 10, 'uratio': 7, 'wd': 0.0001, 'wu': 0.0, 'seed': 0, 'numlabels': 1000, 'opt': 'SGD', 'iterations': 379000}\n",
      "Using not pretrained model efficientnet-b2 ...\n"
     ]
    },
    {
     "name": "stderr",
     "output_type": "stream",
     "text": [
      "100%|██████████| 10/10 [00:09<00:00,  1.10it/s]\n",
      "  0%|          | 0/11 [00:00<?, ?it/s]"
     ]
    },
    {
     "name": "stdout",
     "output_type": "stream",
     "text": [
      "------------ PREDICTING TESTSET -----------------\n"
     ]
    },
    {
     "name": "stderr",
     "output_type": "stream",
     "text": [
      "100%|██████████| 11/11 [00:01<00:00,  8.35it/s]\n"
     ]
    },
    {
     "name": "stdout",
     "output_type": "stream",
     "text": [
      "------------ RUNNING  /scratch/fixmatch_results/nr_of_labels_supervised/eurosat_rgb/FixMatch_archefficientnet-b2_batch32_confidence0.95_lr0.03_nclass10_uratio7_wd0.0001_wu0.0_seed0_numlabels500_optSGD/model_best.pth  -----------------\n",
      "{'dataset': 'eurosat_rgb', 'net': 'efficientnet-b2', 'batch': 32, 'confidence': 0.95, 'lr': 0.03, 'num_classes': 10, 'uratio': 7, 'wd': 0.0001, 'wu': 0.0, 'seed': 0, 'numlabels': 500, 'opt': 'SGD', 'iterations': 27000}\n",
      "Using not pretrained model efficientnet-b2 ...\n"
     ]
    },
    {
     "name": "stderr",
     "output_type": "stream",
     "text": [
      "100%|██████████| 10/10 [00:09<00:00,  1.09it/s]\n",
      "  0%|          | 0/11 [00:00<?, ?it/s]"
     ]
    },
    {
     "name": "stdout",
     "output_type": "stream",
     "text": [
      "------------ PREDICTING TESTSET -----------------\n"
     ]
    },
    {
     "name": "stderr",
     "output_type": "stream",
     "text": [
      "100%|██████████| 11/11 [00:01<00:00,  8.02it/s]\n"
     ]
    }
   ],
   "source": [
    "results = []\n",
    "for checkpoint, args in zip(checkpoints,run_args):\n",
    "    print(\"------------ RUNNING \", checkpoint, \" -----------------\")\n",
    "    print(args)\n",
    "    args[\"batch_size\"] = 256\n",
    "    args[\"data_dir\"] = \"./data/\"\n",
    "    args[\"use_train_model\"] = False\n",
    "    args[\"load_path\"] = checkpoint\n",
    "    \n",
    "    checkpoint_path = os.path.join(args[\"load_path\"])\n",
    "    checkpoint = torch.load(checkpoint_path,map_location='cuda:0')\n",
    "    load_model = (checkpoint[\"train_model\"] if args[\"use_train_model\"] else checkpoint[\"eval_model\"])\n",
    "\n",
    "    _net_builder = net_builder(args[\"net\"],False,{})\n",
    "\n",
    "    net = _net_builder(num_classes=args[\"num_classes\"])\n",
    "    net.load_state_dict(load_model)\n",
    "    if torch.cuda.is_available():\n",
    "        net.cuda()\n",
    "    net.eval()\n",
    "\n",
    "    _eval_dset = SSL_Dataset(name=args[\"dataset\"], train=False, data_dir=args[\"data_dir\"], seed=args[\"seed\"])\n",
    "    eval_dset = _eval_dset.get_dset()\n",
    "\n",
    "    eval_loader = get_data_loader(eval_dset, args[\"batch_size\"], num_workers=1)\n",
    "    label_encoding = _eval_dset.label_encoding\n",
    "    inv_transf = _eval_dset.inv_transform\n",
    "\n",
    "    \n",
    "    print(\"------------ PREDICTING TESTSET -----------------\")\n",
    "    \n",
    "    images, labels, preds = [],[],[]\n",
    "    with torch.no_grad():\n",
    "        for image, target in tqdm(eval_loader):\n",
    "            image = image.type(torch.FloatTensor).cuda()\n",
    "            logit = net(image)\n",
    "            for idx,img in enumerate(image):\n",
    "                images.append(inv_transf(img.transpose(0,2).cpu().numpy()).transpose(0,2).numpy())\n",
    "            preds.append(logit.cpu().max(1)[1])\n",
    "            labels.append(target)\n",
    "    labels = torch.cat(labels).numpy()\n",
    "    preds = torch.cat(preds).numpy()\n",
    "    test_report = classification_report(labels, preds, target_names=label_encoding, output_dict=True)\n",
    "    test_report[\"params\"] = args\n",
    "    results.append(test_report)"
   ]
  },
  {
   "cell_type": "code",
   "execution_count": 5,
   "metadata": {},
   "outputs": [
    {
     "name": "stdout",
     "output_type": "stream",
     "text": [
      "             AnnualCrop    Forest  HerbaceousVegetation   Highway  Industrial  \\\n",
      "dataset                                                                         \n",
      "eurosat_rgb    0.694656  0.886667              0.632258  0.511156    0.869888   \n",
      "eurosat_rgb    0.906149  0.979798              0.883721  0.898551    0.954274   \n",
      "eurosat_rgb    0.649299  0.783005              0.416988  0.434783    0.797619   \n",
      "eurosat_rgb    0.897690  0.974874              0.880000  0.833645    0.936255   \n",
      "eurosat_rgb    0.850534  0.970297              0.858086  0.808511    0.923664   \n",
      "\n",
      "              Pasture  PermanentCrop  Residential     River   SeaLake  \\\n",
      "dataset                                                                 \n",
      "eurosat_rgb  0.653928       0.517454     0.881686  0.514403  0.843972   \n",
      "eurosat_rgb  0.912195       0.857724     0.976667  0.858351  0.965636   \n",
      "eurosat_rgb  0.456576       0.494983     0.769772  0.526902  0.721649   \n",
      "eurosat_rgb  0.869565       0.839104     0.978369  0.804545  0.936396   \n",
      "eurosat_rgb  0.838269       0.707483     0.967213  0.775258  0.944262   \n",
      "\n",
      "             accuracy  macro avg  weighted avg params              net  batch  \\\n",
      "dataset                                                                         \n",
      "eurosat_rgb  0.710741   0.700607      0.709549    NaN  efficientnet-b2     32   \n",
      "eurosat_rgb  0.921481   0.919306      0.921576    NaN  efficientnet-b2     32   \n",
      "eurosat_rgb  0.612963   0.605157      0.613741    NaN  efficientnet-b2     32   \n",
      "eurosat_rgb  0.899259   0.895044      0.899074    NaN  efficientnet-b2     32   \n",
      "eurosat_rgb  0.872222   0.864358      0.869815    NaN  efficientnet-b2     32   \n",
      "\n",
      "             confidence    lr  num_classes  uratio      wd   wu  seed  \\\n",
      "dataset                                                                 \n",
      "eurosat_rgb        0.95  0.03           10       7  0.0001  0.0     0   \n",
      "eurosat_rgb        0.95  0.03           10       7  0.0001  0.0     0   \n",
      "eurosat_rgb        0.95  0.03           10       7  0.0001  0.0     0   \n",
      "eurosat_rgb        0.95  0.03           10       7  0.0001  0.0     0   \n",
      "eurosat_rgb        0.95  0.03           10       7  0.0001  0.0     0   \n",
      "\n",
      "             numlabels  opt  iterations  batch_size data_dir  use_train_model  \\\n",
      "dataset                                                                         \n",
      "eurosat_rgb        100  SGD      496000         256  ./data/            False   \n",
      "eurosat_rgb       2000  SGD       66000         256  ./data/            False   \n",
      "eurosat_rgb         50  SGD      206000         256  ./data/            False   \n",
      "eurosat_rgb       1000  SGD      379000         256  ./data/            False   \n",
      "eurosat_rgb        500  SGD       27000         256  ./data/            False   \n",
      "\n",
      "                                                     load_path  \n",
      "dataset                                                         \n",
      "eurosat_rgb  /scratch/fixmatch_results/nr_of_labels_supervi...  \n",
      "eurosat_rgb  /scratch/fixmatch_results/nr_of_labels_supervi...  \n",
      "eurosat_rgb  /scratch/fixmatch_results/nr_of_labels_supervi...  \n",
      "eurosat_rgb  /scratch/fixmatch_results/nr_of_labels_supervi...  \n",
      "eurosat_rgb  /scratch/fixmatch_results/nr_of_labels_supervi...  \n"
     ]
    }
   ],
   "source": [
    "import pandas as pd\n",
    "big_df = pd.DataFrame()\n",
    "pd.set_option('display.max_columns', None)\n",
    "for result in results:\n",
    "    params = result[\"params\"]\n",
    "    df = pd.DataFrame(result)\n",
    "    df.drop(list(params.keys()),inplace=True)\n",
    "    df.drop([\"support\",\"recall\",\"precision\"],inplace=True)\n",
    "    for key,val in params.items():\n",
    "        df[key] = val\n",
    "    df = df.set_index(\"dataset\")\n",
    "    big_df = big_df.append(df)\n",
    "print(big_df)\n",
    "big_df.to_csv(csv_folder + \"_test_results.csv\")"
   ]
  }
 ],
 "metadata": {
  "kernelspec": {
   "display_name": "Python 3",
   "language": "python",
   "name": "python3"
  },
  "language_info": {
   "codemirror_mode": {
    "name": "ipython",
    "version": 3
   },
   "file_extension": ".py",
   "mimetype": "text/x-python",
   "name": "python",
   "nbconvert_exporter": "python",
   "pygments_lexer": "ipython3",
   "version": "3.8.6"
  }
 },
 "nbformat": 4,
 "nbformat_minor": 4
}
