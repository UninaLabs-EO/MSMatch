{
 "cells": [
  {
   "cell_type": "code",
   "execution_count": 1,
   "metadata": {},
   "outputs": [],
   "source": [
    "%%capture\n",
    "%load_ext autoreload\n",
    "%autoreload 2\n",
    "#Basic Imports\n",
    "import os,sys\n",
    "os.chdir(\"..\")\n",
    "\n",
    "from tqdm import tqdm,trange\n",
    "import numpy as np\n",
    "from sklearn.metrics import classification_report\n",
    "import torch\n",
    "\n",
    "from datasets.ssl_dataset import SSL_Dataset\n",
    "from datasets.data_utils import get_data_loader\n",
    "from utils import get_model_checkpoints\n",
    "from utils import net_builder\n",
    "from utils import clean_results_df\n",
    "from utils import get_model_checkpoints\n",
    "\n",
    "import pandas as pd\n",
    "from termcolor import colored\n",
    "from copy import deepcopy"
   ]
  },
  {
   "cell_type": "markdown",
   "metadata": {},
   "source": [
    "## 1) - Set noise parameters"
   ]
  },
  {
   "cell_type": "code",
   "execution_count": 2,
   "metadata": {},
   "outputs": [],
   "source": [
    "P_noise_dB_min = 0 #[dB], Noise power in dB\n",
    "P_noise_dB_max = 27 #[dB], Max Noise power in dB \n",
    "dP_noise_dB = 3 # [dB], Delta power in dB\n",
    "shift_only = True # If True, no noise is added"
   ]
  },
  {
   "cell_type": "markdown",
   "metadata": {},
   "source": [
    "## 2) - Initialize parameters"
   ]
  },
  {
   "cell_type": "code",
   "execution_count": 7,
   "metadata": {},
   "outputs": [],
   "source": [
    "#Path to the runs to load\n",
    "csv_folder = \"/home/gabrielemeoni/project/SSLRS\"\n",
    "dataset = \"eurosat_rgb\"\n",
    "folder = \"/scratch/fixmatch_results/new_runs/nr_of_labels/\"#\"/scratch/fixmatch_results/new_runs/nr_of_labels/eurosat_rgb/\"\n",
    "sort_criterion = \"numlabels\" # Accepted net, numlabels\n",
    "seed_wanted = 0 # Seed wanted (the others will be filtered)"
   ]
  },
  {
   "cell_type": "code",
   "execution_count": 8,
   "metadata": {},
   "outputs": [
    {
     "name": "stdout",
     "output_type": "stream",
     "text": [
      "scratch\n",
      "scratch\n",
      "scratch\n",
      "scratch\n",
      "scratch\n",
      "scratch\n",
      "scratch\n",
      "scratch\n",
      "scratch\n",
      "scratch\n"
     ]
    }
   ],
   "source": [
    "folder=os.path.join(folder, dataset)\n",
    "checkpoints, run_args = get_model_checkpoints(folder)\n",
    "if os.name == 'nt':\n",
    "       [print(_.split(\"\\\\\")[1]) for _ in checkpoints];\n",
    "else:\n",
    "       [print(_.split(\"/\")[1]) for _ in checkpoints];"
   ]
  },
  {
   "cell_type": "markdown",
   "metadata": {},
   "source": [
    "## 3) - Evaluate all test data"
   ]
  },
  {
   "cell_type": "code",
   "execution_count": 9,
   "metadata": {},
   "outputs": [
    {
     "name": "stdout",
     "output_type": "stream",
     "text": [
      "------------ RUNNING  /scratch/fixmatch_results/new_runs/nr_of_labels/eurosat_rgb/FixMatch_archefficientnet-b2_batch32_confidence0.95_lr0.03_uratio7_wd0.00075_wu1.0_seed0_numlabels500_optSGD/model_best.pth  -----------------\n",
      "{'dataset': 'eurosat_rgb', 'net': 'efficientnet-b2', 'batch': 32, 'confidence': 0.95, 'lr': 0.03, 'uratio': 7, 'wd': 0.00075, 'wu': 1.0, 'seed': 0, 'numlabels': 500, 'opt': 'SGD', 'iterations': 461000}\n"
     ]
    },
    {
     "name": "stderr",
     "output_type": "stream",
     "text": [
      "\r",
      "  0%|          | 0/10 [00:00<?, ?it/s]"
     ]
    },
    {
     "name": "stdout",
     "output_type": "stream",
     "text": [
      "Using not pretrained model efficientnet-b2 ...\n"
     ]
    },
    {
     "name": "stderr",
     "output_type": "stream",
     "text": [
      "100%|██████████| 10/10 [00:08<00:00,  1.24it/s]\n",
      "  0%|          | 0/85 [00:00<?, ?it/s]"
     ]
    },
    {
     "name": "stdout",
     "output_type": "stream",
     "text": [
      "------------ PREDICTING TESTSET ----------------- - Noise value [dB] 0\n"
     ]
    },
    {
     "name": "stderr",
     "output_type": "stream",
     "text": [
      "100%|██████████| 85/85 [00:05<00:00, 14.34it/s]\n",
      "  0%|          | 0/85 [00:00<?, ?it/s]"
     ]
    },
    {
     "name": "stdout",
     "output_type": "stream",
     "text": [
      "------------ PREDICTING TESTSET ----------------- - Noise value [dB] 3\n"
     ]
    },
    {
     "name": "stderr",
     "output_type": "stream",
     "text": [
      "100%|██████████| 85/85 [00:05<00:00, 15.39it/s]\n",
      "  0%|          | 0/85 [00:00<?, ?it/s]"
     ]
    },
    {
     "name": "stdout",
     "output_type": "stream",
     "text": [
      "------------ PREDICTING TESTSET ----------------- - Noise value [dB] 6\n"
     ]
    },
    {
     "name": "stderr",
     "output_type": "stream",
     "text": [
      "100%|██████████| 85/85 [00:05<00:00, 15.46it/s]\n",
      "  0%|          | 0/85 [00:00<?, ?it/s]"
     ]
    },
    {
     "name": "stdout",
     "output_type": "stream",
     "text": [
      "------------ PREDICTING TESTSET ----------------- - Noise value [dB] 9\n"
     ]
    },
    {
     "name": "stderr",
     "output_type": "stream",
     "text": [
      "100%|██████████| 85/85 [00:05<00:00, 15.41it/s]\n",
      "  0%|          | 0/85 [00:00<?, ?it/s]"
     ]
    },
    {
     "name": "stdout",
     "output_type": "stream",
     "text": [
      "------------ PREDICTING TESTSET ----------------- - Noise value [dB] 12\n"
     ]
    },
    {
     "name": "stderr",
     "output_type": "stream",
     "text": [
      "100%|██████████| 85/85 [00:05<00:00, 15.39it/s]\n",
      "  0%|          | 0/85 [00:00<?, ?it/s]"
     ]
    },
    {
     "name": "stdout",
     "output_type": "stream",
     "text": [
      "------------ PREDICTING TESTSET ----------------- - Noise value [dB] 15\n"
     ]
    },
    {
     "name": "stderr",
     "output_type": "stream",
     "text": [
      "100%|██████████| 85/85 [00:05<00:00, 15.40it/s]\n",
      "  0%|          | 0/85 [00:00<?, ?it/s]"
     ]
    },
    {
     "name": "stdout",
     "output_type": "stream",
     "text": [
      "------------ PREDICTING TESTSET ----------------- - Noise value [dB] 18\n"
     ]
    },
    {
     "name": "stderr",
     "output_type": "stream",
     "text": [
      "100%|██████████| 85/85 [00:05<00:00, 15.89it/s]\n",
      "  0%|          | 0/85 [00:00<?, ?it/s]"
     ]
    },
    {
     "name": "stdout",
     "output_type": "stream",
     "text": [
      "------------ PREDICTING TESTSET ----------------- - Noise value [dB] 21\n"
     ]
    },
    {
     "name": "stderr",
     "output_type": "stream",
     "text": [
      "100%|██████████| 85/85 [00:04<00:00, 17.45it/s]\n",
      "  0%|          | 0/85 [00:00<?, ?it/s]"
     ]
    },
    {
     "name": "stdout",
     "output_type": "stream",
     "text": [
      "------------ PREDICTING TESTSET ----------------- - Noise value [dB] 24\n"
     ]
    },
    {
     "name": "stderr",
     "output_type": "stream",
     "text": [
      "100%|██████████| 85/85 [00:04<00:00, 17.49it/s]\n",
      "  0%|          | 0/10 [00:00<?, ?it/s]"
     ]
    },
    {
     "name": "stdout",
     "output_type": "stream",
     "text": [
      "------------ RUNNING  /scratch/fixmatch_results/new_runs/nr_of_labels/eurosat_rgb/FixMatch_archefficientnet-b2_batch32_confidence0.95_lr0.03_uratio7_wd0.00075_wu1.0_seed0_numlabels3000_optSGD/model_best.pth  -----------------\n",
      "{'dataset': 'eurosat_rgb', 'net': 'efficientnet-b2', 'batch': 32, 'confidence': 0.95, 'lr': 0.03, 'uratio': 7, 'wd': 0.00075, 'wu': 1.0, 'seed': 0, 'numlabels': 3000, 'opt': 'SGD', 'iterations': 495000}\n",
      "Using not pretrained model efficientnet-b2 ...\n"
     ]
    },
    {
     "name": "stderr",
     "output_type": "stream",
     "text": [
      "100%|██████████| 10/10 [00:08<00:00,  1.23it/s]\n",
      "  0%|          | 0/85 [00:00<?, ?it/s]"
     ]
    },
    {
     "name": "stdout",
     "output_type": "stream",
     "text": [
      "------------ PREDICTING TESTSET ----------------- - Noise value [dB] 0\n"
     ]
    },
    {
     "name": "stderr",
     "output_type": "stream",
     "text": [
      "100%|██████████| 85/85 [00:04<00:00, 17.33it/s]\n",
      "  0%|          | 0/85 [00:00<?, ?it/s]"
     ]
    },
    {
     "name": "stdout",
     "output_type": "stream",
     "text": [
      "------------ PREDICTING TESTSET ----------------- - Noise value [dB] 3\n"
     ]
    },
    {
     "name": "stderr",
     "output_type": "stream",
     "text": [
      "100%|██████████| 85/85 [00:04<00:00, 17.29it/s]\n",
      "  0%|          | 0/85 [00:00<?, ?it/s]"
     ]
    },
    {
     "name": "stdout",
     "output_type": "stream",
     "text": [
      "------------ PREDICTING TESTSET ----------------- - Noise value [dB] 6\n"
     ]
    },
    {
     "name": "stderr",
     "output_type": "stream",
     "text": [
      "100%|██████████| 85/85 [00:04<00:00, 17.24it/s]\n",
      "  0%|          | 0/85 [00:00<?, ?it/s]"
     ]
    },
    {
     "name": "stdout",
     "output_type": "stream",
     "text": [
      "------------ PREDICTING TESTSET ----------------- - Noise value [dB] 9\n"
     ]
    },
    {
     "name": "stderr",
     "output_type": "stream",
     "text": [
      "100%|██████████| 85/85 [00:04<00:00, 17.25it/s]\n",
      "  0%|          | 0/85 [00:00<?, ?it/s]"
     ]
    },
    {
     "name": "stdout",
     "output_type": "stream",
     "text": [
      "------------ PREDICTING TESTSET ----------------- - Noise value [dB] 12\n"
     ]
    },
    {
     "name": "stderr",
     "output_type": "stream",
     "text": [
      "100%|██████████| 85/85 [00:04<00:00, 17.26it/s]\n",
      "  0%|          | 0/85 [00:00<?, ?it/s]"
     ]
    },
    {
     "name": "stdout",
     "output_type": "stream",
     "text": [
      "------------ PREDICTING TESTSET ----------------- - Noise value [dB] 15\n"
     ]
    },
    {
     "name": "stderr",
     "output_type": "stream",
     "text": [
      "100%|██████████| 85/85 [00:04<00:00, 17.29it/s]\n",
      "  0%|          | 0/85 [00:00<?, ?it/s]"
     ]
    },
    {
     "name": "stdout",
     "output_type": "stream",
     "text": [
      "------------ PREDICTING TESTSET ----------------- - Noise value [dB] 18\n"
     ]
    },
    {
     "name": "stderr",
     "output_type": "stream",
     "text": [
      "100%|██████████| 85/85 [00:04<00:00, 17.26it/s]\n",
      "  0%|          | 0/85 [00:00<?, ?it/s]"
     ]
    },
    {
     "name": "stdout",
     "output_type": "stream",
     "text": [
      "------------ PREDICTING TESTSET ----------------- - Noise value [dB] 21\n"
     ]
    },
    {
     "name": "stderr",
     "output_type": "stream",
     "text": [
      "100%|██████████| 85/85 [00:04<00:00, 17.23it/s]\n",
      "  0%|          | 0/85 [00:00<?, ?it/s]"
     ]
    },
    {
     "name": "stdout",
     "output_type": "stream",
     "text": [
      "------------ PREDICTING TESTSET ----------------- - Noise value [dB] 24\n"
     ]
    },
    {
     "name": "stderr",
     "output_type": "stream",
     "text": [
      "100%|██████████| 85/85 [00:04<00:00, 17.27it/s]\n",
      "  0%|          | 0/10 [00:00<?, ?it/s]"
     ]
    },
    {
     "name": "stdout",
     "output_type": "stream",
     "text": [
      "------------ RUNNING  /scratch/fixmatch_results/new_runs/nr_of_labels/eurosat_rgb/FixMatch_archefficientnet-b2_batch32_confidence0.95_lr0.03_uratio7_wd0.00075_wu1.0_seed0_numlabels100_optSGD/model_best.pth  -----------------\n",
      "{'dataset': 'eurosat_rgb', 'net': 'efficientnet-b2', 'batch': 32, 'confidence': 0.95, 'lr': 0.03, 'uratio': 7, 'wd': 0.00075, 'wu': 1.0, 'seed': 0, 'numlabels': 100, 'opt': 'SGD', 'iterations': 493000}\n",
      "Using not pretrained model efficientnet-b2 ...\n"
     ]
    },
    {
     "name": "stderr",
     "output_type": "stream",
     "text": [
      "100%|██████████| 10/10 [00:08<00:00,  1.23it/s]\n",
      "  0%|          | 0/85 [00:00<?, ?it/s]"
     ]
    },
    {
     "name": "stdout",
     "output_type": "stream",
     "text": [
      "------------ PREDICTING TESTSET ----------------- - Noise value [dB] 0\n"
     ]
    },
    {
     "name": "stderr",
     "output_type": "stream",
     "text": [
      "100%|██████████| 85/85 [00:04<00:00, 17.29it/s]\n",
      "  0%|          | 0/85 [00:00<?, ?it/s]"
     ]
    },
    {
     "name": "stdout",
     "output_type": "stream",
     "text": [
      "------------ PREDICTING TESTSET ----------------- - Noise value [dB] 3\n"
     ]
    },
    {
     "name": "stderr",
     "output_type": "stream",
     "text": [
      "100%|██████████| 85/85 [00:04<00:00, 17.25it/s]\n",
      "  0%|          | 0/85 [00:00<?, ?it/s]"
     ]
    },
    {
     "name": "stdout",
     "output_type": "stream",
     "text": [
      "------------ PREDICTING TESTSET ----------------- - Noise value [dB] 6\n"
     ]
    },
    {
     "name": "stderr",
     "output_type": "stream",
     "text": [
      "100%|██████████| 85/85 [00:04<00:00, 17.29it/s]\n",
      "  0%|          | 0/85 [00:00<?, ?it/s]"
     ]
    },
    {
     "name": "stdout",
     "output_type": "stream",
     "text": [
      "------------ PREDICTING TESTSET ----------------- - Noise value [dB] 9\n"
     ]
    },
    {
     "name": "stderr",
     "output_type": "stream",
     "text": [
      "100%|██████████| 85/85 [00:04<00:00, 17.28it/s]\n",
      "  0%|          | 0/85 [00:00<?, ?it/s]"
     ]
    },
    {
     "name": "stdout",
     "output_type": "stream",
     "text": [
      "------------ PREDICTING TESTSET ----------------- - Noise value [dB] 12\n"
     ]
    },
    {
     "name": "stderr",
     "output_type": "stream",
     "text": [
      "100%|██████████| 85/85 [00:04<00:00, 17.27it/s]\n",
      "  0%|          | 0/85 [00:00<?, ?it/s]"
     ]
    },
    {
     "name": "stdout",
     "output_type": "stream",
     "text": [
      "------------ PREDICTING TESTSET ----------------- - Noise value [dB] 15\n"
     ]
    },
    {
     "name": "stderr",
     "output_type": "stream",
     "text": [
      "100%|██████████| 85/85 [00:04<00:00, 17.26it/s]\n",
      "  0%|          | 0/85 [00:00<?, ?it/s]"
     ]
    },
    {
     "name": "stdout",
     "output_type": "stream",
     "text": [
      "------------ PREDICTING TESTSET ----------------- - Noise value [dB] 18\n"
     ]
    },
    {
     "name": "stderr",
     "output_type": "stream",
     "text": [
      "100%|██████████| 85/85 [00:04<00:00, 17.23it/s]\n",
      "  0%|          | 0/85 [00:00<?, ?it/s]"
     ]
    },
    {
     "name": "stdout",
     "output_type": "stream",
     "text": [
      "------------ PREDICTING TESTSET ----------------- - Noise value [dB] 21\n"
     ]
    },
    {
     "name": "stderr",
     "output_type": "stream",
     "text": [
      "100%|██████████| 85/85 [00:04<00:00, 17.29it/s]\n",
      "  0%|          | 0/85 [00:00<?, ?it/s]"
     ]
    },
    {
     "name": "stdout",
     "output_type": "stream",
     "text": [
      "------------ PREDICTING TESTSET ----------------- - Noise value [dB] 24\n"
     ]
    },
    {
     "name": "stderr",
     "output_type": "stream",
     "text": [
      "100%|██████████| 85/85 [00:04<00:00, 17.23it/s]\n"
     ]
    },
    {
     "name": "stdout",
     "output_type": "stream",
     "text": [
      "------------ RUNNING  /scratch/fixmatch_results/new_runs/nr_of_labels/eurosat_rgb/FixMatch_archefficientnet-b2_batch32_confidence0.95_lr0.03_uratio7_wd0.00075_wu1.0_seed3_numlabels100_optSGD/model_best.pth  -----------------\n",
      "{'dataset': 'eurosat_rgb', 'net': 'efficientnet-b2', 'batch': 32, 'confidence': 0.95, 'lr': 0.03, 'uratio': 7, 'wd': 0.00075, 'wu': 1.0, 'seed': 3, 'numlabels': 100, 'opt': 'SGD', 'iterations': 0}\n",
      "------------ RUNNING  /scratch/fixmatch_results/new_runs/nr_of_labels/eurosat_rgb/FixMatch_archefficientnet-b2_batch32_confidence0.95_lr0.03_uratio7_wd0.00075_wu1.0_seed3_numlabels500_optSGD/model_best.pth  -----------------\n",
      "{'dataset': 'eurosat_rgb', 'net': 'efficientnet-b2', 'batch': 32, 'confidence': 0.95, 'lr': 0.03, 'uratio': 7, 'wd': 0.00075, 'wu': 1.0, 'seed': 3, 'numlabels': 500, 'opt': 'SGD', 'iterations': 0}\n",
      "------------ RUNNING  /scratch/fixmatch_results/new_runs/nr_of_labels/eurosat_rgb/FixMatch_archefficientnet-b2_batch32_confidence0.95_lr0.03_uratio7_wd0.00075_wu1.0_seed0_numlabels2000_optSGD/model_best.pth  -----------------\n",
      "{'dataset': 'eurosat_rgb', 'net': 'efficientnet-b2', 'batch': 32, 'confidence': 0.95, 'lr': 0.03, 'uratio': 7, 'wd': 0.00075, 'wu': 1.0, 'seed': 0, 'numlabels': 2000, 'opt': 'SGD', 'iterations': 494000}\n"
     ]
    },
    {
     "name": "stderr",
     "output_type": "stream",
     "text": [
      "\r",
      "  0%|          | 0/10 [00:00<?, ?it/s]"
     ]
    },
    {
     "name": "stdout",
     "output_type": "stream",
     "text": [
      "Using not pretrained model efficientnet-b2 ...\n"
     ]
    },
    {
     "name": "stderr",
     "output_type": "stream",
     "text": [
      "100%|██████████| 10/10 [00:08<00:00,  1.23it/s]\n",
      "  0%|          | 0/85 [00:00<?, ?it/s]"
     ]
    },
    {
     "name": "stdout",
     "output_type": "stream",
     "text": [
      "------------ PREDICTING TESTSET ----------------- - Noise value [dB] 0\n"
     ]
    },
    {
     "name": "stderr",
     "output_type": "stream",
     "text": [
      "100%|██████████| 85/85 [00:04<00:00, 17.27it/s]\n",
      "  0%|          | 0/85 [00:00<?, ?it/s]"
     ]
    },
    {
     "name": "stdout",
     "output_type": "stream",
     "text": [
      "------------ PREDICTING TESTSET ----------------- - Noise value [dB] 3\n"
     ]
    },
    {
     "name": "stderr",
     "output_type": "stream",
     "text": [
      "100%|██████████| 85/85 [00:04<00:00, 17.33it/s]\n",
      "  0%|          | 0/85 [00:00<?, ?it/s]"
     ]
    },
    {
     "name": "stdout",
     "output_type": "stream",
     "text": [
      "------------ PREDICTING TESTSET ----------------- - Noise value [dB] 6\n"
     ]
    },
    {
     "name": "stderr",
     "output_type": "stream",
     "text": [
      "100%|██████████| 85/85 [00:04<00:00, 17.23it/s]\n",
      "  0%|          | 0/85 [00:00<?, ?it/s]"
     ]
    },
    {
     "name": "stdout",
     "output_type": "stream",
     "text": [
      "------------ PREDICTING TESTSET ----------------- - Noise value [dB] 9\n"
     ]
    },
    {
     "name": "stderr",
     "output_type": "stream",
     "text": [
      "100%|██████████| 85/85 [00:04<00:00, 17.39it/s]\n",
      "  0%|          | 0/85 [00:00<?, ?it/s]"
     ]
    },
    {
     "name": "stdout",
     "output_type": "stream",
     "text": [
      "------------ PREDICTING TESTSET ----------------- - Noise value [dB] 12\n"
     ]
    },
    {
     "name": "stderr",
     "output_type": "stream",
     "text": [
      "100%|██████████| 85/85 [00:04<00:00, 17.37it/s]\n",
      "  0%|          | 0/85 [00:00<?, ?it/s]"
     ]
    },
    {
     "name": "stdout",
     "output_type": "stream",
     "text": [
      "------------ PREDICTING TESTSET ----------------- - Noise value [dB] 15\n"
     ]
    },
    {
     "name": "stderr",
     "output_type": "stream",
     "text": [
      "100%|██████████| 85/85 [00:04<00:00, 17.38it/s]\n",
      "  0%|          | 0/85 [00:00<?, ?it/s]"
     ]
    },
    {
     "name": "stdout",
     "output_type": "stream",
     "text": [
      "------------ PREDICTING TESTSET ----------------- - Noise value [dB] 18\n"
     ]
    },
    {
     "name": "stderr",
     "output_type": "stream",
     "text": [
      "100%|██████████| 85/85 [00:04<00:00, 17.38it/s]\n",
      "  0%|          | 0/85 [00:00<?, ?it/s]"
     ]
    },
    {
     "name": "stdout",
     "output_type": "stream",
     "text": [
      "------------ PREDICTING TESTSET ----------------- - Noise value [dB] 21\n"
     ]
    },
    {
     "name": "stderr",
     "output_type": "stream",
     "text": [
      "100%|██████████| 85/85 [00:04<00:00, 17.34it/s]\n",
      "  0%|          | 0/85 [00:00<?, ?it/s]"
     ]
    },
    {
     "name": "stdout",
     "output_type": "stream",
     "text": [
      "------------ PREDICTING TESTSET ----------------- - Noise value [dB] 24\n"
     ]
    },
    {
     "name": "stderr",
     "output_type": "stream",
     "text": [
      "100%|██████████| 85/85 [00:04<00:00, 17.37it/s]\n",
      "  0%|          | 0/10 [00:00<?, ?it/s]"
     ]
    },
    {
     "name": "stdout",
     "output_type": "stream",
     "text": [
      "------------ RUNNING  /scratch/fixmatch_results/new_runs/nr_of_labels/eurosat_rgb/FixMatch_archefficientnet-b2_batch32_confidence0.95_lr0.03_uratio7_wd0.00075_wu1.0_seed4_numlabels100_optSGD/model_best.pth  -----------------\n",
      "{'dataset': 'eurosat_rgb', 'net': 'efficientnet-b2', 'batch': 32, 'confidence': 0.95, 'lr': 0.03, 'uratio': 7, 'wd': 0.00075, 'wu': 1.0, 'seed': 4, 'numlabels': 100, 'opt': 'SGD', 'iterations': 0}\n",
      "------------ RUNNING  /scratch/fixmatch_results/new_runs/nr_of_labels/eurosat_rgb/FixMatch_archefficientnet-b2_batch32_confidence0.95_lr0.03_uratio7_wd0.00075_wu1.0_seed0_numlabels1000_optSGD/model_best.pth  -----------------\n",
      "{'dataset': 'eurosat_rgb', 'net': 'efficientnet-b2', 'batch': 32, 'confidence': 0.95, 'lr': 0.03, 'uratio': 7, 'wd': 0.00075, 'wu': 1.0, 'seed': 0, 'numlabels': 1000, 'opt': 'SGD', 'iterations': 478000}\n",
      "Using not pretrained model efficientnet-b2 ...\n"
     ]
    },
    {
     "name": "stderr",
     "output_type": "stream",
     "text": [
      "100%|██████████| 10/10 [00:08<00:00,  1.25it/s]\n",
      "  0%|          | 0/85 [00:00<?, ?it/s]"
     ]
    },
    {
     "name": "stdout",
     "output_type": "stream",
     "text": [
      "------------ PREDICTING TESTSET ----------------- - Noise value [dB] 0\n"
     ]
    },
    {
     "name": "stderr",
     "output_type": "stream",
     "text": [
      "100%|██████████| 85/85 [00:04<00:00, 17.38it/s]\n",
      "  0%|          | 0/85 [00:00<?, ?it/s]"
     ]
    },
    {
     "name": "stdout",
     "output_type": "stream",
     "text": [
      "------------ PREDICTING TESTSET ----------------- - Noise value [dB] 3\n"
     ]
    },
    {
     "name": "stderr",
     "output_type": "stream",
     "text": [
      "100%|██████████| 85/85 [00:04<00:00, 17.34it/s]\n",
      "  0%|          | 0/85 [00:00<?, ?it/s]"
     ]
    },
    {
     "name": "stdout",
     "output_type": "stream",
     "text": [
      "------------ PREDICTING TESTSET ----------------- - Noise value [dB] 6\n"
     ]
    },
    {
     "name": "stderr",
     "output_type": "stream",
     "text": [
      "100%|██████████| 85/85 [00:04<00:00, 17.40it/s]\n",
      "  0%|          | 0/85 [00:00<?, ?it/s]"
     ]
    },
    {
     "name": "stdout",
     "output_type": "stream",
     "text": [
      "------------ PREDICTING TESTSET ----------------- - Noise value [dB] 9\n"
     ]
    },
    {
     "name": "stderr",
     "output_type": "stream",
     "text": [
      "100%|██████████| 85/85 [00:04<00:00, 17.34it/s]\n",
      "  0%|          | 0/85 [00:00<?, ?it/s]"
     ]
    },
    {
     "name": "stdout",
     "output_type": "stream",
     "text": [
      "------------ PREDICTING TESTSET ----------------- - Noise value [dB] 12\n"
     ]
    },
    {
     "name": "stderr",
     "output_type": "stream",
     "text": [
      "100%|██████████| 85/85 [00:04<00:00, 17.45it/s]\n",
      "  0%|          | 0/85 [00:00<?, ?it/s]"
     ]
    },
    {
     "name": "stdout",
     "output_type": "stream",
     "text": [
      "------------ PREDICTING TESTSET ----------------- - Noise value [dB] 15\n"
     ]
    },
    {
     "name": "stderr",
     "output_type": "stream",
     "text": [
      "100%|██████████| 85/85 [00:04<00:00, 17.34it/s]\n",
      "  0%|          | 0/85 [00:00<?, ?it/s]"
     ]
    },
    {
     "name": "stdout",
     "output_type": "stream",
     "text": [
      "------------ PREDICTING TESTSET ----------------- - Noise value [dB] 18\n"
     ]
    },
    {
     "name": "stderr",
     "output_type": "stream",
     "text": [
      "100%|██████████| 85/85 [00:04<00:00, 17.38it/s]\n",
      "  0%|          | 0/85 [00:00<?, ?it/s]"
     ]
    },
    {
     "name": "stdout",
     "output_type": "stream",
     "text": [
      "------------ PREDICTING TESTSET ----------------- - Noise value [dB] 21\n"
     ]
    },
    {
     "name": "stderr",
     "output_type": "stream",
     "text": [
      "100%|██████████| 85/85 [00:04<00:00, 17.38it/s]\n",
      "  0%|          | 0/85 [00:00<?, ?it/s]"
     ]
    },
    {
     "name": "stdout",
     "output_type": "stream",
     "text": [
      "------------ PREDICTING TESTSET ----------------- - Noise value [dB] 24\n"
     ]
    },
    {
     "name": "stderr",
     "output_type": "stream",
     "text": [
      "100%|██████████| 85/85 [00:04<00:00, 17.36it/s]\n",
      "  0%|          | 0/10 [00:00<?, ?it/s]"
     ]
    },
    {
     "name": "stdout",
     "output_type": "stream",
     "text": [
      "------------ RUNNING  /scratch/fixmatch_results/new_runs/nr_of_labels/eurosat_rgb/FixMatch_archefficientnet-b2_batch32_confidence0.95_lr0.03_uratio7_wd0.00075_wu1.0_seed0_numlabels50_optSGD/model_best.pth  -----------------\n",
      "{'dataset': 'eurosat_rgb', 'net': 'efficientnet-b2', 'batch': 32, 'confidence': 0.95, 'lr': 0.03, 'uratio': 7, 'wd': 0.00075, 'wu': 1.0, 'seed': 0, 'numlabels': 50, 'opt': 'SGD', 'iterations': 450000}\n",
      "Using not pretrained model efficientnet-b2 ...\n"
     ]
    },
    {
     "name": "stderr",
     "output_type": "stream",
     "text": [
      "100%|██████████| 10/10 [00:08<00:00,  1.24it/s]\n",
      "  0%|          | 0/85 [00:00<?, ?it/s]"
     ]
    },
    {
     "name": "stdout",
     "output_type": "stream",
     "text": [
      "------------ PREDICTING TESTSET ----------------- - Noise value [dB] 0\n"
     ]
    },
    {
     "name": "stderr",
     "output_type": "stream",
     "text": [
      "100%|██████████| 85/85 [00:04<00:00, 17.44it/s]\n",
      "  0%|          | 0/85 [00:00<?, ?it/s]"
     ]
    },
    {
     "name": "stdout",
     "output_type": "stream",
     "text": [
      "------------ PREDICTING TESTSET ----------------- - Noise value [dB] 3\n"
     ]
    },
    {
     "name": "stderr",
     "output_type": "stream",
     "text": [
      "100%|██████████| 85/85 [00:04<00:00, 17.43it/s]\n",
      "  0%|          | 0/85 [00:00<?, ?it/s]"
     ]
    },
    {
     "name": "stdout",
     "output_type": "stream",
     "text": [
      "------------ PREDICTING TESTSET ----------------- - Noise value [dB] 6\n"
     ]
    },
    {
     "name": "stderr",
     "output_type": "stream",
     "text": [
      "100%|██████████| 85/85 [00:04<00:00, 17.45it/s]\n",
      "  0%|          | 0/85 [00:00<?, ?it/s]"
     ]
    },
    {
     "name": "stdout",
     "output_type": "stream",
     "text": [
      "------------ PREDICTING TESTSET ----------------- - Noise value [dB] 9\n"
     ]
    },
    {
     "name": "stderr",
     "output_type": "stream",
     "text": [
      "100%|██████████| 85/85 [00:04<00:00, 17.41it/s]\n",
      "  0%|          | 0/85 [00:00<?, ?it/s]"
     ]
    },
    {
     "name": "stdout",
     "output_type": "stream",
     "text": [
      "------------ PREDICTING TESTSET ----------------- - Noise value [dB] 12\n"
     ]
    },
    {
     "name": "stderr",
     "output_type": "stream",
     "text": [
      "100%|██████████| 85/85 [00:04<00:00, 17.42it/s]\n",
      "  0%|          | 0/85 [00:00<?, ?it/s]"
     ]
    },
    {
     "name": "stdout",
     "output_type": "stream",
     "text": [
      "------------ PREDICTING TESTSET ----------------- - Noise value [dB] 15\n"
     ]
    },
    {
     "name": "stderr",
     "output_type": "stream",
     "text": [
      "100%|██████████| 85/85 [00:04<00:00, 17.41it/s]\n",
      "  0%|          | 0/85 [00:00<?, ?it/s]"
     ]
    },
    {
     "name": "stdout",
     "output_type": "stream",
     "text": [
      "------------ PREDICTING TESTSET ----------------- - Noise value [dB] 18\n"
     ]
    },
    {
     "name": "stderr",
     "output_type": "stream",
     "text": [
      "100%|██████████| 85/85 [00:04<00:00, 17.38it/s]\n",
      "  0%|          | 0/85 [00:00<?, ?it/s]"
     ]
    },
    {
     "name": "stdout",
     "output_type": "stream",
     "text": [
      "------------ PREDICTING TESTSET ----------------- - Noise value [dB] 21\n"
     ]
    },
    {
     "name": "stderr",
     "output_type": "stream",
     "text": [
      "100%|██████████| 85/85 [00:04<00:00, 17.43it/s]\n",
      "  0%|          | 0/85 [00:00<?, ?it/s]"
     ]
    },
    {
     "name": "stdout",
     "output_type": "stream",
     "text": [
      "------------ PREDICTING TESTSET ----------------- - Noise value [dB] 24\n"
     ]
    },
    {
     "name": "stderr",
     "output_type": "stream",
     "text": [
      "100%|██████████| 85/85 [00:04<00:00, 17.40it/s]"
     ]
    },
    {
     "name": "stdout",
     "output_type": "stream",
     "text": [
      "------------ RUNNING  /scratch/fixmatch_results/new_runs/nr_of_labels/eurosat_rgb/FixMatch_archefficientnet-b0_batch32_confidence0.95_lr0.03_uratio7_wd0.00075_wu1.0_seed4_numlabels100_optSGD/model_best.pth  -----------------\n",
      "{'dataset': 'eurosat_rgb', 'net': 'efficientnet-b0', 'batch': 32, 'confidence': 0.95, 'lr': 0.03, 'uratio': 7, 'wd': 0.00075, 'wu': 1.0, 'seed': 4, 'numlabels': 100, 'opt': 'SGD', 'iterations': 0}\n"
     ]
    },
    {
     "name": "stderr",
     "output_type": "stream",
     "text": [
      "\n"
     ]
    }
   ],
   "source": [
    "results = []\n",
    "for checkpoint, args in zip(checkpoints,run_args):\n",
    "    print(\"------------ RUNNING \", checkpoint, \" -----------------\")\n",
    "    print(args)\n",
    "    args[\"batch_size\"] = 256\n",
    "    args[\"data_dir\"] = \"./data/\"\n",
    "    args[\"use_train_model\"] = False\n",
    "    args[\"load_path\"] = checkpoint\n",
    "    \n",
    "    if args[\"seed\"] == seed_wanted:\n",
    "        checkpoint_path = os.path.join(args[\"load_path\"])\n",
    "        checkpoint = torch.load(checkpoint_path,map_location='cuda:0')\n",
    "        load_model = (checkpoint[\"train_model\"] if args[\"use_train_model\"] else checkpoint[\"eval_model\"])\n",
    "        _net_builder = net_builder(args[\"net\"],False,{})\n",
    "        _eval_dset = SSL_Dataset(name=args[\"dataset\"], train=False, data_dir=args[\"data_dir\"], seed=args[\"seed\"])\n",
    "        eval_dset = _eval_dset.get_dset()\n",
    "        inv_transf = _eval_dset.inv_transform\n",
    "        transf = _eval_dset.transform\n",
    "        net = _net_builder(num_classes=_eval_dset.num_classes, in_channels=_eval_dset.num_channels)\n",
    "        net.load_state_dict(load_model)\n",
    "        if torch.cuda.is_available():\n",
    "            net.cuda()\n",
    "        net.eval()\n",
    "                        \n",
    "        eval_loader = get_data_loader(eval_dset, args[\"batch\"], num_workers=1)\n",
    "        label_encoding = _eval_dset.label_encoding\n",
    "        dB_value_list = []\n",
    "        resuts_run = []\n",
    "        \n",
    "        for P_noise_dB in range(P_noise_dB_min, P_noise_dB_max, dP_noise_dB):\n",
    "            print(\"------------ PREDICTING TESTSET ----------------- - Noise value [dB]\", P_noise_dB)\n",
    "            \n",
    "            \n",
    "            images, labels, preds = [],[],[]\n",
    "            with torch.no_grad():\n",
    "                for image, target in tqdm(eval_loader):\n",
    "                    image_preprocessed=[]\n",
    "                    for idx,img in enumerate(image):\n",
    "                        img=255 * inv_transf(img.transpose(0,2).cpu().numpy())\n",
    "                        img_orig=img\n",
    "                        for n in range(img.shape[0]):\n",
    "                            img[n]=(0.75 + 0.5 * torch.rand(size=(1,))) * img[n]\n",
    "                        \n",
    "                        \n",
    "                        if not(shift_only):\n",
    "                            A_noise = (10**(P_noise_dB/20))\n",
    "                            noise=torch.randn(size=img.shape) * A_noise\n",
    "                            img+= noise\n",
    "                        \n",
    "                        image[idx] = transf(1/255*torch.clip(img, 0, 255).transpose(0,2).cpu().numpy())\n",
    "                            \n",
    "                    logit = net(image.cuda())\n",
    "                    preds.append(logit.cpu().max(1)[1])\n",
    "                    labels.append(target)\n",
    "            labels = torch.cat(labels).numpy()\n",
    "            preds = torch.cat(preds).numpy()\n",
    "            test_report = classification_report(labels, preds, target_names=label_encoding, output_dict=True)\n",
    "            test_report[\"params\"] = args\n",
    "            dB_value_list.append(\"P_noise_\"+str(P_noise_dB)+\"_dB\")\n",
    "            resuts_run.append(test_report)\n",
    "        results_noise_dict = dict(zip(dB_value_list, resuts_run))\n",
    "        results.append(results_noise_dict)"
   ]
  },
  {
   "cell_type": "markdown",
   "metadata": {},
   "source": [
    "## 4) - Creating a PANDAS dataframe and export it to CSV file"
   ]
  },
  {
   "cell_type": "code",
   "execution_count": 10,
   "metadata": {},
   "outputs": [
    {
     "name": "stdout",
     "output_type": "stream",
     "text": [
      "                         net pretrained supervised  batch  confidence    lr  \\\n",
      "dataset                                                                       \n",
      "eurosat_rgb  efficientnet-b2      False      False     32        0.95  0.03   \n",
      "eurosat_rgb  efficientnet-b2      False      False     32        0.95  0.03   \n",
      "eurosat_rgb  efficientnet-b2      False      False     32        0.95  0.03   \n",
      "eurosat_rgb  efficientnet-b2      False      False     32        0.95  0.03   \n",
      "eurosat_rgb  efficientnet-b2      False      False     32        0.95  0.03   \n",
      "eurosat_rgb  efficientnet-b2      False      False     32        0.95  0.03   \n",
      "\n",
      "             uratio       wd   wu  numlabels  opt  iterations  \\\n",
      "dataset                                                         \n",
      "eurosat_rgb       7  0.00075  1.0         50  SGD      450000   \n",
      "eurosat_rgb       7  0.00075  1.0        100  SGD      493000   \n",
      "eurosat_rgb       7  0.00075  1.0        500  SGD      461000   \n",
      "eurosat_rgb       7  0.00075  1.0       1000  SGD      478000   \n",
      "eurosat_rgb       7  0.00075  1.0       2000  SGD      494000   \n",
      "eurosat_rgb       7  0.00075  1.0       3000  SGD      495000   \n",
      "\n",
      "                                                     load_path  \\\n",
      "dataset                                                          \n",
      "eurosat_rgb  /scratch/fixmatch_results/new_runs/nr_of_label...   \n",
      "eurosat_rgb  /scratch/fixmatch_results/new_runs/nr_of_label...   \n",
      "eurosat_rgb  /scratch/fixmatch_results/new_runs/nr_of_label...   \n",
      "eurosat_rgb  /scratch/fixmatch_results/new_runs/nr_of_label...   \n",
      "eurosat_rgb  /scratch/fixmatch_results/new_runs/nr_of_label...   \n",
      "eurosat_rgb  /scratch/fixmatch_results/new_runs/nr_of_label...   \n",
      "\n",
      "             accuracy - [0dB]  accuracy - [3dB]  accuracy - [6dB]  \\\n",
      "dataset                                                             \n",
      "eurosat_rgb          0.934074          0.938148          0.937778   \n",
      "eurosat_rgb          0.945926          0.939630          0.940370   \n",
      "eurosat_rgb          0.944074          0.946296          0.942963   \n",
      "eurosat_rgb          0.951852          0.948148          0.954074   \n",
      "eurosat_rgb          0.943704          0.941852          0.937407   \n",
      "eurosat_rgb          0.956667          0.957037          0.951852   \n",
      "\n",
      "             accuracy - [9dB]  accuracy - [12dB]  accuracy - [15dB]  \\\n",
      "dataset                                                               \n",
      "eurosat_rgb          0.937037           0.935926           0.937037   \n",
      "eurosat_rgb          0.938889           0.942222           0.945185   \n",
      "eurosat_rgb          0.941481           0.944074           0.945926   \n",
      "eurosat_rgb          0.952963           0.952593           0.945926   \n",
      "eurosat_rgb          0.938148           0.946667           0.943704   \n",
      "eurosat_rgb          0.957778           0.957037           0.957037   \n",
      "\n",
      "             accuracy - [18dB]  accuracy - [21dB]  accuracy - [24dB]  \n",
      "dataset                                                               \n",
      "eurosat_rgb           0.942963           0.938519           0.932963  \n",
      "eurosat_rgb           0.942963           0.937778           0.943333  \n",
      "eurosat_rgb           0.946667           0.946667           0.942222  \n",
      "eurosat_rgb           0.949259           0.952963           0.952222  \n",
      "eurosat_rgb           0.937407           0.940370           0.940000  \n",
      "eurosat_rgb           0.952593           0.954074           0.952222  \n",
      "CSV file saved: /home/gabrielemeoni/project/SSLRS/shift_test_results_eurosat_rgb_seed_0.csv\n"
     ]
    }
   ],
   "source": [
    "big_df = pd.DataFrame()\n",
    "pd.set_option('display.max_columns', None)\n",
    "for result in results:\n",
    "    df = pd.DataFrame()\n",
    "    for dB_value in dB_value_list:\n",
    "        if dB_value == dB_value_list[0]:\n",
    "            result_0_dB = result[dB_value_list[0]]\n",
    "            params = result_0_dB[\"params\"]\n",
    "            df_local = pd.DataFrame(result_0_dB)\n",
    "            df_local.drop(list(params.keys()),inplace=True)\n",
    "            accuracy_0_dB = result_0_dB['accuracy']\n",
    "            df_local.drop([\"support\",\"recall\",\"precision\"],inplace=True)\n",
    "            df_local.drop('accuracy',axis=1 ,inplace=True)\n",
    "            \n",
    "            for key,val in params.items():\n",
    "                df_local[key] = val\n",
    "                \n",
    "            df_local = df_local.set_index(\"dataset\")\n",
    "            df_local.insert(len(df_local.columns), 'accuracy - [0dB]', accuracy_0_dB)\n",
    "            #df_local = df_local.rename(columns={'accuracy': 'accuracy - [0dB]'})\n",
    "            \n",
    "            df=df_local\n",
    "        else:\n",
    "            results_n_dB = result[dB_value]\n",
    "            df.insert(len(df.columns), 'accuracy - ['+dB_value.replace(\"P_noise_\",\"\").replace(\"_dB\",\"\")+\"dB]\", results_n_dB[\"accuracy\"])\n",
    "\n",
    "    big_df = big_df.append(df)\n",
    "\n",
    "\n",
    "small_df = clean_results_df(big_df, folder,sort_criterion, swap_accuracy_position=False)\n",
    "print(small_df)\n",
    "if shift_only:\n",
    "    small_df.to_csv(os.path.join(csv_folder , \"shift_test_results_\"+str(dataset)+\"_seed_\"+str(seed_wanted)+\".csv\"))\n",
    "    print(\"CSV file saved:\", os.path.join(csv_folder , \"shift_test_results_\"+str(dataset)+\"_seed_\"+str(seed_wanted)+\".csv\"))\n",
    "else:\n",
    "    small_df.to_csv(os.path.join(csv_folder , \"noise_test_results_\"+str(dataset)+\"_seed_\"+str(seed_wanted)+\".csv\"))\n",
    "    print(\"CSV file saved:\", os.path.join(csv_folder , \"noise_test_results_\"+str(dataset)+\"_seed_\"+str(seed_wanted)+\".csv\"))"
   ]
  },
  {
   "cell_type": "markdown",
   "metadata": {},
   "source": [
    "## 5) - Creating plots"
   ]
  },
  {
   "cell_type": "markdown",
   "metadata": {},
   "source": [
    "Run **only** once you have extracted all the *csv* files for all the 0,1,2 seeds."
   ]
  },
  {
   "cell_type": "code",
   "execution_count": 12,
   "metadata": {},
   "outputs": [],
   "source": [
    "accuracy_noise=[]\n",
    "for seed in [0,1,2]:\n",
    "    if shift_only:\n",
    "        csv_file=os.path.join(csv_folder, \"shift_test_results_\"+str(dataset)+\"_seed_\"+str(seed)+\".csv\")\n",
    "    else:\n",
    "        csv_file=os.path.join(csv_folder, \"noise_test_results_\"+str(dataset)+\"_seed_\"+str(seed)+\".csv\")\n",
    "        \n",
    "    df_seed = pd.read_csv(csv_file)\n",
    "    accuracy_noise_seed=[]\n",
    "    for dB_value in dB_value_list:\n",
    "        accuracy_noise_seed.append(df_seed['accuracy - ['+dB_value.replace(\"P_noise_\",\"\").replace(\"_dB\",\"\")+\"dB]\"])\n",
    "    \n",
    "    if len(accuracy_noise) == 0:\n",
    "        for n in accuracy_noise_seed:\n",
    "            accuracy_noise.append(n/3*100)\n",
    "    else:\n",
    "        for n in range(len(accuracy_noise_seed)):\n",
    "            for m in range(len(accuracy_noise_seed[0])):\n",
    "                accuracy_noise[n][m]+=accuracy_noise_seed[n][m]/3*100\n",
    "\n",
    "        "
   ]
  },
  {
   "cell_type": "code",
   "execution_count": 13,
   "metadata": {},
   "outputs": [
    {
     "data": {
      "image/png": "[encoded data removed]",
      "text/plain": [
       "<Figure size 432x288 with 1 Axes>"
      ]
     },
     "metadata": {
      "needs_background": "light"
     },
     "output_type": "display_data"
    }
   ],
   "source": [
    "import matplotlib.pyplot as plt\n",
    "\n",
    "for numlabels in small_df[\"numlabels\"]:\n",
    "    acc_numlabels=small_df.loc[small_df[\"numlabels\"] == numlabels]\n",
    "    \n",
    "    plt.plot(np.arange(P_noise_dB_min, P_noise_dB_max, dP_noise_dB), accuracy_noise)\n",
    "    \n",
    "\n",
    "plt.legend(small_df[\"numlabels\"])\n",
    "plt.xlabel('noise power [dB]')\n",
    "plt.ylabel('Accuracy [%]') \n",
    "if shift_only:\n",
    "    plt.savefig(\"shift_graph_\"+dataset+\".png\")\n",
    "else:\n",
    "    plt.savefig(\"noise_graph_\"+dataset+\".png\")"
   ]
  },
  {
   "cell_type": "code",
   "execution_count": null,
   "metadata": {},
   "outputs": [],
   "source": []
  }
 ],
 "metadata": {
  "kernelspec": {
   "display_name": "Python 3",
   "language": "python",
   "name": "python3"
  },
  "language_info": {
   "codemirror_mode": {
    "name": "ipython",
    "version": 3
   },
   "file_extension": ".py",
   "mimetype": "text/x-python",
   "name": "python",
   "nbconvert_exporter": "python",
   "pygments_lexer": "ipython3",
   "version": "3.8.6"
  }
 },
 "nbformat": 4,
 "nbformat_minor": 4
}
