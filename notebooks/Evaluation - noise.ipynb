{
 "cells": [
  {
   "cell_type": "code",
   "execution_count": 1,
   "metadata": {},
   "outputs": [],
   "source": [
    "%%capture\n",
    "%load_ext autoreload\n",
    "%autoreload 2\n",
    "#Basic Imports\n",
    "import os,sys\n",
    "os.chdir(\"..\")\n",
    "\n",
    "from tqdm import tqdm,trange\n",
    "import numpy as np\n",
    "from sklearn.metrics import classification_report\n",
    "import torch\n",
    "\n",
    "from datasets.ssl_dataset import SSL_Dataset\n",
    "from datasets.data_utils import get_data_loader\n",
    "from utils import get_model_checkpoints\n",
    "from utils import net_builder\n",
    "from utils import clean_results_df\n",
    "from utils import get_model_checkpoints\n",
    "\n",
    "import pandas as pd\n",
    "from termcolor import colored\n",
    "from copy import deepcopy"
   ]
  },
  {
   "cell_type": "markdown",
   "metadata": {},
   "source": [
    "## 1) - Set noise parameters"
   ]
  },
  {
   "cell_type": "code",
   "execution_count": 2,
   "metadata": {},
   "outputs": [],
   "source": [
    "P_noise_dB_min = 0 #[dB], Noise power in dB\n",
    "P_noise_dB_max = 27 #[dB], Max Noise power in dB \n",
    "dP_noise_dB = 3 # [dB], Delta power in dB"
   ]
  },
  {
   "cell_type": "markdown",
   "metadata": {},
   "source": [
    "## 2) - Initialize parameters"
   ]
  },
  {
   "cell_type": "code",
   "execution_count": 3,
   "metadata": {},
   "outputs": [],
   "source": [
    "#Path to the runs to load\n",
    "csv_folder = \"/home/gabrielemeoni/project/SSLRS/test\"\n",
    "folder = \"/scratch/fixmatch_results/new_runs/nr_of_labels/eurosat_rgb/\"\n",
    "sort_criterion = \"numlabels\" # Accepted net, numlabels\n",
    "seed_wanted = 0 # Seed wanted (the others will be filtered)"
   ]
  },
  {
   "cell_type": "code",
   "execution_count": 4,
   "metadata": {},
   "outputs": [
    {
     "name": "stdout",
     "output_type": "stream",
     "text": [
      "scratch\n",
      "scratch\n",
      "scratch\n",
      "scratch\n",
      "scratch\n",
      "scratch\n",
      "scratch\n",
      "scratch\n",
      "scratch\n",
      "scratch\n"
     ]
    }
   ],
   "source": [
    "checkpoints, run_args = get_model_checkpoints(folder)\n",
    "if os.name == 'nt':\n",
    "       [print(_.split(\"\\\\\")[1]) for _ in checkpoints];\n",
    "else:\n",
    "       [print(_.split(\"/\")[1]) for _ in checkpoints];"
   ]
  },
  {
   "cell_type": "markdown",
   "metadata": {},
   "source": [
    "## 3) - Evaluate all test data"
   ]
  },
  {
   "cell_type": "code",
   "execution_count": 12,
   "metadata": {},
   "outputs": [
    {
     "name": "stderr",
     "output_type": "stream",
     "text": [
      "\r",
      "  0%|          | 0/10 [00:00<?, ?it/s]"
     ]
    },
    {
     "name": "stdout",
     "output_type": "stream",
     "text": [
      "------------ RUNNING  /scratch/fixmatch_results/new_runs/nr_of_labels/eurosat_rgb/FixMatch_archefficientnet-b2_batch32_confidence0.95_lr0.03_uratio7_wd0.00075_wu1.0_seed0_numlabels500_optSGD/model_best.pth  -----------------\n",
      "{'dataset': 'eurosat_rgb', 'net': 'efficientnet-b2', 'batch': 32, 'confidence': 0.95, 'lr': 0.03, 'uratio': 7, 'wd': 0.00075, 'wu': 1.0, 'seed': 0, 'numlabels': 500, 'opt': 'SGD', 'iterations': 461000, 'batch_size': 256, 'data_dir': './data/', 'use_train_model': False, 'load_path': '/scratch/fixmatch_results/new_runs/nr_of_labels/eurosat_rgb/FixMatch_archefficientnet-b2_batch32_confidence0.95_lr0.03_uratio7_wd0.00075_wu1.0_seed0_numlabels500_optSGD/model_best.pth'}\n",
      "Using not pretrained model efficientnet-b2 ...\n"
     ]
    },
    {
     "name": "stderr",
     "output_type": "stream",
     "text": [
      "100%|██████████| 10/10 [00:08<00:00,  1.25it/s]\n",
      "  0%|          | 0/85 [00:00<?, ?it/s]"
     ]
    },
    {
     "name": "stdout",
     "output_type": "stream",
     "text": [
      "------------ PREDICTING TESTSET ----------------- - Noise value [dB] 0\n"
     ]
    },
    {
     "name": "stderr",
     "output_type": "stream",
     "text": [
      "100%|██████████| 85/85 [00:05<00:00, 16.02it/s]\n",
      "  0%|          | 0/85 [00:00<?, ?it/s]"
     ]
    },
    {
     "name": "stdout",
     "output_type": "stream",
     "text": [
      "------------ PREDICTING TESTSET ----------------- - Noise value [dB] 3\n"
     ]
    },
    {
     "name": "stderr",
     "output_type": "stream",
     "text": [
      "100%|██████████| 85/85 [00:05<00:00, 15.99it/s]\n",
      "  0%|          | 0/85 [00:00<?, ?it/s]"
     ]
    },
    {
     "name": "stdout",
     "output_type": "stream",
     "text": [
      "------------ PREDICTING TESTSET ----------------- - Noise value [dB] 6\n"
     ]
    },
    {
     "name": "stderr",
     "output_type": "stream",
     "text": [
      "100%|██████████| 85/85 [00:05<00:00, 16.01it/s]\n",
      "  0%|          | 0/85 [00:00<?, ?it/s]"
     ]
    },
    {
     "name": "stdout",
     "output_type": "stream",
     "text": [
      "------------ PREDICTING TESTSET ----------------- - Noise value [dB] 9\n"
     ]
    },
    {
     "name": "stderr",
     "output_type": "stream",
     "text": [
      "100%|██████████| 85/85 [00:05<00:00, 16.00it/s]\n",
      "  0%|          | 0/85 [00:00<?, ?it/s]"
     ]
    },
    {
     "name": "stdout",
     "output_type": "stream",
     "text": [
      "------------ PREDICTING TESTSET ----------------- - Noise value [dB] 12\n"
     ]
    },
    {
     "name": "stderr",
     "output_type": "stream",
     "text": [
      "100%|██████████| 85/85 [00:05<00:00, 16.01it/s]\n",
      "  0%|          | 0/85 [00:00<?, ?it/s]"
     ]
    },
    {
     "name": "stdout",
     "output_type": "stream",
     "text": [
      "------------ PREDICTING TESTSET ----------------- - Noise value [dB] 15\n"
     ]
    },
    {
     "name": "stderr",
     "output_type": "stream",
     "text": [
      "100%|██████████| 85/85 [00:05<00:00, 16.01it/s]\n",
      "  0%|          | 0/85 [00:00<?, ?it/s]"
     ]
    },
    {
     "name": "stdout",
     "output_type": "stream",
     "text": [
      "------------ PREDICTING TESTSET ----------------- - Noise value [dB] 18\n"
     ]
    },
    {
     "name": "stderr",
     "output_type": "stream",
     "text": [
      "100%|██████████| 85/85 [00:05<00:00, 15.96it/s]\n",
      "  0%|          | 0/85 [00:00<?, ?it/s]"
     ]
    },
    {
     "name": "stdout",
     "output_type": "stream",
     "text": [
      "------------ PREDICTING TESTSET ----------------- - Noise value [dB] 21\n"
     ]
    },
    {
     "name": "stderr",
     "output_type": "stream",
     "text": [
      "100%|██████████| 85/85 [00:05<00:00, 16.04it/s]\n",
      "  0%|          | 0/85 [00:00<?, ?it/s]"
     ]
    },
    {
     "name": "stdout",
     "output_type": "stream",
     "text": [
      "------------ PREDICTING TESTSET ----------------- - Noise value [dB] 24\n"
     ]
    },
    {
     "name": "stderr",
     "output_type": "stream",
     "text": [
      "100%|██████████| 85/85 [00:05<00:00, 15.96it/s]\n",
      "  0%|          | 0/10 [00:00<?, ?it/s]"
     ]
    },
    {
     "name": "stdout",
     "output_type": "stream",
     "text": [
      "------------ RUNNING  /scratch/fixmatch_results/new_runs/nr_of_labels/eurosat_rgb/FixMatch_archefficientnet-b2_batch32_confidence0.95_lr0.03_uratio7_wd0.00075_wu1.0_seed0_numlabels3000_optSGD/model_best.pth  -----------------\n",
      "{'dataset': 'eurosat_rgb', 'net': 'efficientnet-b2', 'batch': 32, 'confidence': 0.95, 'lr': 0.03, 'uratio': 7, 'wd': 0.00075, 'wu': 1.0, 'seed': 0, 'numlabels': 3000, 'opt': 'SGD', 'iterations': 495000, 'batch_size': 256, 'data_dir': './data/', 'use_train_model': False, 'load_path': '/scratch/fixmatch_results/new_runs/nr_of_labels/eurosat_rgb/FixMatch_archefficientnet-b2_batch32_confidence0.95_lr0.03_uratio7_wd0.00075_wu1.0_seed0_numlabels3000_optSGD/model_best.pth'}\n",
      "Using not pretrained model efficientnet-b2 ...\n"
     ]
    },
    {
     "name": "stderr",
     "output_type": "stream",
     "text": [
      "100%|██████████| 10/10 [00:07<00:00,  1.25it/s]\n",
      "  0%|          | 0/85 [00:00<?, ?it/s]"
     ]
    },
    {
     "name": "stdout",
     "output_type": "stream",
     "text": [
      "------------ PREDICTING TESTSET ----------------- - Noise value [dB] 0\n"
     ]
    },
    {
     "name": "stderr",
     "output_type": "stream",
     "text": [
      "100%|██████████| 85/85 [00:05<00:00, 15.88it/s]\n",
      "  0%|          | 0/85 [00:00<?, ?it/s]"
     ]
    },
    {
     "name": "stdout",
     "output_type": "stream",
     "text": [
      "------------ PREDICTING TESTSET ----------------- - Noise value [dB] 3\n"
     ]
    },
    {
     "name": "stderr",
     "output_type": "stream",
     "text": [
      "100%|██████████| 85/85 [00:05<00:00, 15.76it/s]\n",
      "  0%|          | 0/85 [00:00<?, ?it/s]"
     ]
    },
    {
     "name": "stdout",
     "output_type": "stream",
     "text": [
      "------------ PREDICTING TESTSET ----------------- - Noise value [dB] 6\n"
     ]
    },
    {
     "name": "stderr",
     "output_type": "stream",
     "text": [
      "100%|██████████| 85/85 [00:05<00:00, 15.81it/s]\n",
      "  0%|          | 0/85 [00:00<?, ?it/s]"
     ]
    },
    {
     "name": "stdout",
     "output_type": "stream",
     "text": [
      "------------ PREDICTING TESTSET ----------------- - Noise value [dB] 9\n"
     ]
    },
    {
     "name": "stderr",
     "output_type": "stream",
     "text": [
      "100%|██████████| 85/85 [00:05<00:00, 15.76it/s]\n",
      "  0%|          | 0/85 [00:00<?, ?it/s]"
     ]
    },
    {
     "name": "stdout",
     "output_type": "stream",
     "text": [
      "------------ PREDICTING TESTSET ----------------- - Noise value [dB] 12\n"
     ]
    },
    {
     "name": "stderr",
     "output_type": "stream",
     "text": [
      "100%|██████████| 85/85 [00:05<00:00, 15.79it/s]\n",
      "  0%|          | 0/85 [00:00<?, ?it/s]"
     ]
    },
    {
     "name": "stdout",
     "output_type": "stream",
     "text": [
      "------------ PREDICTING TESTSET ----------------- - Noise value [dB] 15\n"
     ]
    },
    {
     "name": "stderr",
     "output_type": "stream",
     "text": [
      "100%|██████████| 85/85 [00:05<00:00, 15.79it/s]\n",
      "  0%|          | 0/85 [00:00<?, ?it/s]"
     ]
    },
    {
     "name": "stdout",
     "output_type": "stream",
     "text": [
      "------------ PREDICTING TESTSET ----------------- - Noise value [dB] 18\n"
     ]
    },
    {
     "name": "stderr",
     "output_type": "stream",
     "text": [
      "100%|██████████| 85/85 [00:05<00:00, 15.82it/s]\n",
      "  0%|          | 0/85 [00:00<?, ?it/s]"
     ]
    },
    {
     "name": "stdout",
     "output_type": "stream",
     "text": [
      "------------ PREDICTING TESTSET ----------------- - Noise value [dB] 21\n"
     ]
    },
    {
     "name": "stderr",
     "output_type": "stream",
     "text": [
      "100%|██████████| 85/85 [00:05<00:00, 15.73it/s]\n",
      "  0%|          | 0/85 [00:00<?, ?it/s]"
     ]
    },
    {
     "name": "stdout",
     "output_type": "stream",
     "text": [
      "------------ PREDICTING TESTSET ----------------- - Noise value [dB] 24\n"
     ]
    },
    {
     "name": "stderr",
     "output_type": "stream",
     "text": [
      "100%|██████████| 85/85 [00:05<00:00, 15.82it/s]\n",
      "  0%|          | 0/10 [00:00<?, ?it/s]"
     ]
    },
    {
     "name": "stdout",
     "output_type": "stream",
     "text": [
      "------------ RUNNING  /scratch/fixmatch_results/new_runs/nr_of_labels/eurosat_rgb/FixMatch_archefficientnet-b2_batch32_confidence0.95_lr0.03_uratio7_wd0.00075_wu1.0_seed0_numlabels100_optSGD/model_best.pth  -----------------\n",
      "{'dataset': 'eurosat_rgb', 'net': 'efficientnet-b2', 'batch': 32, 'confidence': 0.95, 'lr': 0.03, 'uratio': 7, 'wd': 0.00075, 'wu': 1.0, 'seed': 0, 'numlabels': 100, 'opt': 'SGD', 'iterations': 493000, 'batch_size': 256, 'data_dir': './data/', 'use_train_model': False, 'load_path': '/scratch/fixmatch_results/new_runs/nr_of_labels/eurosat_rgb/FixMatch_archefficientnet-b2_batch32_confidence0.95_lr0.03_uratio7_wd0.00075_wu1.0_seed0_numlabels100_optSGD/model_best.pth'}\n",
      "Using not pretrained model efficientnet-b2 ...\n"
     ]
    },
    {
     "name": "stderr",
     "output_type": "stream",
     "text": [
      "100%|██████████| 10/10 [00:08<00:00,  1.25it/s]\n",
      "  0%|          | 0/85 [00:00<?, ?it/s]"
     ]
    },
    {
     "name": "stdout",
     "output_type": "stream",
     "text": [
      "------------ PREDICTING TESTSET ----------------- - Noise value [dB] 0\n"
     ]
    },
    {
     "name": "stderr",
     "output_type": "stream",
     "text": [
      "100%|██████████| 85/85 [00:05<00:00, 15.92it/s]\n",
      "  0%|          | 0/85 [00:00<?, ?it/s]"
     ]
    },
    {
     "name": "stdout",
     "output_type": "stream",
     "text": [
      "------------ PREDICTING TESTSET ----------------- - Noise value [dB] 3\n"
     ]
    },
    {
     "name": "stderr",
     "output_type": "stream",
     "text": [
      "100%|██████████| 85/85 [00:05<00:00, 15.89it/s]\n",
      "  0%|          | 0/85 [00:00<?, ?it/s]"
     ]
    },
    {
     "name": "stdout",
     "output_type": "stream",
     "text": [
      "------------ PREDICTING TESTSET ----------------- - Noise value [dB] 6\n"
     ]
    },
    {
     "name": "stderr",
     "output_type": "stream",
     "text": [
      "100%|██████████| 85/85 [00:05<00:00, 15.91it/s]\n",
      "  0%|          | 0/85 [00:00<?, ?it/s]"
     ]
    },
    {
     "name": "stdout",
     "output_type": "stream",
     "text": [
      "------------ PREDICTING TESTSET ----------------- - Noise value [dB] 9\n"
     ]
    },
    {
     "name": "stderr",
     "output_type": "stream",
     "text": [
      "100%|██████████| 85/85 [00:05<00:00, 15.92it/s]\n",
      "  0%|          | 0/85 [00:00<?, ?it/s]"
     ]
    },
    {
     "name": "stdout",
     "output_type": "stream",
     "text": [
      "------------ PREDICTING TESTSET ----------------- - Noise value [dB] 12\n"
     ]
    },
    {
     "name": "stderr",
     "output_type": "stream",
     "text": [
      "100%|██████████| 85/85 [00:05<00:00, 15.88it/s]\n",
      "  0%|          | 0/85 [00:00<?, ?it/s]"
     ]
    },
    {
     "name": "stdout",
     "output_type": "stream",
     "text": [
      "------------ PREDICTING TESTSET ----------------- - Noise value [dB] 15\n"
     ]
    },
    {
     "name": "stderr",
     "output_type": "stream",
     "text": [
      "100%|██████████| 85/85 [00:05<00:00, 15.88it/s]\n",
      "  0%|          | 0/85 [00:00<?, ?it/s]"
     ]
    },
    {
     "name": "stdout",
     "output_type": "stream",
     "text": [
      "------------ PREDICTING TESTSET ----------------- - Noise value [dB] 18\n"
     ]
    },
    {
     "name": "stderr",
     "output_type": "stream",
     "text": [
      "100%|██████████| 85/85 [00:05<00:00, 15.90it/s]\n",
      "  0%|          | 0/85 [00:00<?, ?it/s]"
     ]
    },
    {
     "name": "stdout",
     "output_type": "stream",
     "text": [
      "------------ PREDICTING TESTSET ----------------- - Noise value [dB] 21\n"
     ]
    },
    {
     "name": "stderr",
     "output_type": "stream",
     "text": [
      "100%|██████████| 85/85 [00:05<00:00, 15.89it/s]\n",
      "  0%|          | 0/85 [00:00<?, ?it/s]"
     ]
    },
    {
     "name": "stdout",
     "output_type": "stream",
     "text": [
      "------------ PREDICTING TESTSET ----------------- - Noise value [dB] 24\n"
     ]
    },
    {
     "name": "stderr",
     "output_type": "stream",
     "text": [
      "100%|██████████| 85/85 [00:05<00:00, 15.91it/s]\n",
      "  0%|          | 0/10 [00:00<?, ?it/s]"
     ]
    },
    {
     "name": "stdout",
     "output_type": "stream",
     "text": [
      "------------ RUNNING  /scratch/fixmatch_results/new_runs/nr_of_labels/eurosat_rgb/FixMatch_archefficientnet-b2_batch32_confidence0.95_lr0.03_uratio7_wd0.00075_wu1.0_seed3_numlabels100_optSGD/model_best.pth  -----------------\n",
      "{'dataset': 'eurosat_rgb', 'net': 'efficientnet-b2', 'batch': 32, 'confidence': 0.95, 'lr': 0.03, 'uratio': 7, 'wd': 0.00075, 'wu': 1.0, 'seed': 3, 'numlabels': 100, 'opt': 'SGD', 'iterations': 0, 'batch_size': 256, 'data_dir': './data/', 'use_train_model': False, 'load_path': '/scratch/fixmatch_results/new_runs/nr_of_labels/eurosat_rgb/FixMatch_archefficientnet-b2_batch32_confidence0.95_lr0.03_uratio7_wd0.00075_wu1.0_seed3_numlabels100_optSGD/model_best.pth'}\n",
      "------------ RUNNING  /scratch/fixmatch_results/new_runs/nr_of_labels/eurosat_rgb/FixMatch_archefficientnet-b2_batch32_confidence0.95_lr0.03_uratio7_wd0.00075_wu1.0_seed3_numlabels500_optSGD/model_best.pth  -----------------\n",
      "{'dataset': 'eurosat_rgb', 'net': 'efficientnet-b2', 'batch': 32, 'confidence': 0.95, 'lr': 0.03, 'uratio': 7, 'wd': 0.00075, 'wu': 1.0, 'seed': 3, 'numlabels': 500, 'opt': 'SGD', 'iterations': 0, 'batch_size': 256, 'data_dir': './data/', 'use_train_model': False, 'load_path': '/scratch/fixmatch_results/new_runs/nr_of_labels/eurosat_rgb/FixMatch_archefficientnet-b2_batch32_confidence0.95_lr0.03_uratio7_wd0.00075_wu1.0_seed3_numlabels500_optSGD/model_best.pth'}\n",
      "------------ RUNNING  /scratch/fixmatch_results/new_runs/nr_of_labels/eurosat_rgb/FixMatch_archefficientnet-b2_batch32_confidence0.95_lr0.03_uratio7_wd0.00075_wu1.0_seed0_numlabels2000_optSGD/model_best.pth  -----------------\n",
      "{'dataset': 'eurosat_rgb', 'net': 'efficientnet-b2', 'batch': 32, 'confidence': 0.95, 'lr': 0.03, 'uratio': 7, 'wd': 0.00075, 'wu': 1.0, 'seed': 0, 'numlabels': 2000, 'opt': 'SGD', 'iterations': 494000, 'batch_size': 256, 'data_dir': './data/', 'use_train_model': False, 'load_path': '/scratch/fixmatch_results/new_runs/nr_of_labels/eurosat_rgb/FixMatch_archefficientnet-b2_batch32_confidence0.95_lr0.03_uratio7_wd0.00075_wu1.0_seed0_numlabels2000_optSGD/model_best.pth'}\n",
      "Using not pretrained model efficientnet-b2 ...\n"
     ]
    },
    {
     "name": "stderr",
     "output_type": "stream",
     "text": [
      "100%|██████████| 10/10 [00:08<00:00,  1.25it/s]\n",
      "  0%|          | 0/85 [00:00<?, ?it/s]"
     ]
    },
    {
     "name": "stdout",
     "output_type": "stream",
     "text": [
      "------------ PREDICTING TESTSET ----------------- - Noise value [dB] 0\n"
     ]
    },
    {
     "name": "stderr",
     "output_type": "stream",
     "text": [
      "100%|██████████| 85/85 [00:05<00:00, 15.87it/s]\n",
      "  0%|          | 0/85 [00:00<?, ?it/s]"
     ]
    },
    {
     "name": "stdout",
     "output_type": "stream",
     "text": [
      "------------ PREDICTING TESTSET ----------------- - Noise value [dB] 3\n"
     ]
    },
    {
     "name": "stderr",
     "output_type": "stream",
     "text": [
      "100%|██████████| 85/85 [00:05<00:00, 15.87it/s]\n",
      "  0%|          | 0/85 [00:00<?, ?it/s]"
     ]
    },
    {
     "name": "stdout",
     "output_type": "stream",
     "text": [
      "------------ PREDICTING TESTSET ----------------- - Noise value [dB] 6\n"
     ]
    },
    {
     "name": "stderr",
     "output_type": "stream",
     "text": [
      "100%|██████████| 85/85 [00:05<00:00, 15.85it/s]\n",
      "  0%|          | 0/85 [00:00<?, ?it/s]"
     ]
    },
    {
     "name": "stdout",
     "output_type": "stream",
     "text": [
      "------------ PREDICTING TESTSET ----------------- - Noise value [dB] 9\n"
     ]
    },
    {
     "name": "stderr",
     "output_type": "stream",
     "text": [
      "100%|██████████| 85/85 [00:05<00:00, 15.86it/s]\n",
      "  0%|          | 0/85 [00:00<?, ?it/s]"
     ]
    },
    {
     "name": "stdout",
     "output_type": "stream",
     "text": [
      "------------ PREDICTING TESTSET ----------------- - Noise value [dB] 12\n"
     ]
    },
    {
     "name": "stderr",
     "output_type": "stream",
     "text": [
      "100%|██████████| 85/85 [00:05<00:00, 15.83it/s]\n",
      "  0%|          | 0/85 [00:00<?, ?it/s]"
     ]
    },
    {
     "name": "stdout",
     "output_type": "stream",
     "text": [
      "------------ PREDICTING TESTSET ----------------- - Noise value [dB] 15\n"
     ]
    },
    {
     "name": "stderr",
     "output_type": "stream",
     "text": [
      "100%|██████████| 85/85 [00:05<00:00, 15.81it/s]\n",
      "  0%|          | 0/85 [00:00<?, ?it/s]"
     ]
    },
    {
     "name": "stdout",
     "output_type": "stream",
     "text": [
      "------------ PREDICTING TESTSET ----------------- - Noise value [dB] 18\n"
     ]
    },
    {
     "name": "stderr",
     "output_type": "stream",
     "text": [
      "100%|██████████| 85/85 [00:05<00:00, 15.85it/s]\n",
      "  0%|          | 0/85 [00:00<?, ?it/s]"
     ]
    },
    {
     "name": "stdout",
     "output_type": "stream",
     "text": [
      "------------ PREDICTING TESTSET ----------------- - Noise value [dB] 21\n"
     ]
    },
    {
     "name": "stderr",
     "output_type": "stream",
     "text": [
      "100%|██████████| 85/85 [00:05<00:00, 15.85it/s]\n",
      "  0%|          | 0/85 [00:00<?, ?it/s]"
     ]
    },
    {
     "name": "stdout",
     "output_type": "stream",
     "text": [
      "------------ PREDICTING TESTSET ----------------- - Noise value [dB] 24\n"
     ]
    },
    {
     "name": "stderr",
     "output_type": "stream",
     "text": [
      "100%|██████████| 85/85 [00:05<00:00, 15.84it/s]\n",
      "  0%|          | 0/10 [00:00<?, ?it/s]"
     ]
    },
    {
     "name": "stdout",
     "output_type": "stream",
     "text": [
      "------------ RUNNING  /scratch/fixmatch_results/new_runs/nr_of_labels/eurosat_rgb/FixMatch_archefficientnet-b2_batch32_confidence0.95_lr0.03_uratio7_wd0.00075_wu1.0_seed4_numlabels100_optSGD/model_best.pth  -----------------\n",
      "{'dataset': 'eurosat_rgb', 'net': 'efficientnet-b2', 'batch': 32, 'confidence': 0.95, 'lr': 0.03, 'uratio': 7, 'wd': 0.00075, 'wu': 1.0, 'seed': 4, 'numlabels': 100, 'opt': 'SGD', 'iterations': 0, 'batch_size': 256, 'data_dir': './data/', 'use_train_model': False, 'load_path': '/scratch/fixmatch_results/new_runs/nr_of_labels/eurosat_rgb/FixMatch_archefficientnet-b2_batch32_confidence0.95_lr0.03_uratio7_wd0.00075_wu1.0_seed4_numlabels100_optSGD/model_best.pth'}\n",
      "------------ RUNNING  /scratch/fixmatch_results/new_runs/nr_of_labels/eurosat_rgb/FixMatch_archefficientnet-b2_batch32_confidence0.95_lr0.03_uratio7_wd0.00075_wu1.0_seed0_numlabels1000_optSGD/model_best.pth  -----------------\n",
      "{'dataset': 'eurosat_rgb', 'net': 'efficientnet-b2', 'batch': 32, 'confidence': 0.95, 'lr': 0.03, 'uratio': 7, 'wd': 0.00075, 'wu': 1.0, 'seed': 0, 'numlabels': 1000, 'opt': 'SGD', 'iterations': 478000, 'batch_size': 256, 'data_dir': './data/', 'use_train_model': False, 'load_path': '/scratch/fixmatch_results/new_runs/nr_of_labels/eurosat_rgb/FixMatch_archefficientnet-b2_batch32_confidence0.95_lr0.03_uratio7_wd0.00075_wu1.0_seed0_numlabels1000_optSGD/model_best.pth'}\n",
      "Using not pretrained model efficientnet-b2 ...\n"
     ]
    },
    {
     "name": "stderr",
     "output_type": "stream",
     "text": [
      "100%|██████████| 10/10 [00:08<00:00,  1.25it/s]\n",
      "  0%|          | 0/85 [00:00<?, ?it/s]"
     ]
    },
    {
     "name": "stdout",
     "output_type": "stream",
     "text": [
      "------------ PREDICTING TESTSET ----------------- - Noise value [dB] 0\n"
     ]
    },
    {
     "name": "stderr",
     "output_type": "stream",
     "text": [
      "100%|██████████| 85/85 [00:05<00:00, 15.90it/s]\n",
      "  0%|          | 0/85 [00:00<?, ?it/s]"
     ]
    },
    {
     "name": "stdout",
     "output_type": "stream",
     "text": [
      "------------ PREDICTING TESTSET ----------------- - Noise value [dB] 3\n"
     ]
    },
    {
     "name": "stderr",
     "output_type": "stream",
     "text": [
      "100%|██████████| 85/85 [00:05<00:00, 15.90it/s]\n",
      "  0%|          | 0/85 [00:00<?, ?it/s]"
     ]
    },
    {
     "name": "stdout",
     "output_type": "stream",
     "text": [
      "------------ PREDICTING TESTSET ----------------- - Noise value [dB] 6\n"
     ]
    },
    {
     "name": "stderr",
     "output_type": "stream",
     "text": [
      "100%|██████████| 85/85 [00:05<00:00, 15.91it/s]\n",
      "  0%|          | 0/85 [00:00<?, ?it/s]"
     ]
    },
    {
     "name": "stdout",
     "output_type": "stream",
     "text": [
      "------------ PREDICTING TESTSET ----------------- - Noise value [dB] 9\n"
     ]
    },
    {
     "name": "stderr",
     "output_type": "stream",
     "text": [
      "100%|██████████| 85/85 [00:05<00:00, 15.85it/s]\n",
      "  0%|          | 0/85 [00:00<?, ?it/s]"
     ]
    },
    {
     "name": "stdout",
     "output_type": "stream",
     "text": [
      "------------ PREDICTING TESTSET ----------------- - Noise value [dB] 12\n"
     ]
    },
    {
     "name": "stderr",
     "output_type": "stream",
     "text": [
      "100%|██████████| 85/85 [00:05<00:00, 15.88it/s]\n",
      "  0%|          | 0/85 [00:00<?, ?it/s]"
     ]
    },
    {
     "name": "stdout",
     "output_type": "stream",
     "text": [
      "------------ PREDICTING TESTSET ----------------- - Noise value [dB] 15\n"
     ]
    },
    {
     "name": "stderr",
     "output_type": "stream",
     "text": [
      "100%|██████████| 85/85 [00:05<00:00, 15.90it/s]\n",
      "  0%|          | 0/85 [00:00<?, ?it/s]"
     ]
    },
    {
     "name": "stdout",
     "output_type": "stream",
     "text": [
      "------------ PREDICTING TESTSET ----------------- - Noise value [dB] 18\n"
     ]
    },
    {
     "name": "stderr",
     "output_type": "stream",
     "text": [
      "100%|██████████| 85/85 [00:05<00:00, 15.92it/s]\n",
      "  0%|          | 0/85 [00:00<?, ?it/s]"
     ]
    },
    {
     "name": "stdout",
     "output_type": "stream",
     "text": [
      "------------ PREDICTING TESTSET ----------------- - Noise value [dB] 21\n"
     ]
    },
    {
     "name": "stderr",
     "output_type": "stream",
     "text": [
      "100%|██████████| 85/85 [00:05<00:00, 15.91it/s]\n",
      "  0%|          | 0/85 [00:00<?, ?it/s]"
     ]
    },
    {
     "name": "stdout",
     "output_type": "stream",
     "text": [
      "------------ PREDICTING TESTSET ----------------- - Noise value [dB] 24\n"
     ]
    },
    {
     "name": "stderr",
     "output_type": "stream",
     "text": [
      "100%|██████████| 85/85 [00:05<00:00, 15.90it/s]\n",
      "  0%|          | 0/10 [00:00<?, ?it/s]"
     ]
    },
    {
     "name": "stdout",
     "output_type": "stream",
     "text": [
      "------------ RUNNING  /scratch/fixmatch_results/new_runs/nr_of_labels/eurosat_rgb/FixMatch_archefficientnet-b2_batch32_confidence0.95_lr0.03_uratio7_wd0.00075_wu1.0_seed0_numlabels50_optSGD/model_best.pth  -----------------\n",
      "{'dataset': 'eurosat_rgb', 'net': 'efficientnet-b2', 'batch': 32, 'confidence': 0.95, 'lr': 0.03, 'uratio': 7, 'wd': 0.00075, 'wu': 1.0, 'seed': 0, 'numlabels': 50, 'opt': 'SGD', 'iterations': 450000, 'batch_size': 256, 'data_dir': './data/', 'use_train_model': False, 'load_path': '/scratch/fixmatch_results/new_runs/nr_of_labels/eurosat_rgb/FixMatch_archefficientnet-b2_batch32_confidence0.95_lr0.03_uratio7_wd0.00075_wu1.0_seed0_numlabels50_optSGD/model_best.pth'}\n",
      "Using not pretrained model efficientnet-b2 ...\n"
     ]
    },
    {
     "name": "stderr",
     "output_type": "stream",
     "text": [
      "100%|██████████| 10/10 [00:07<00:00,  1.25it/s]\n",
      "  0%|          | 0/85 [00:00<?, ?it/s]"
     ]
    },
    {
     "name": "stdout",
     "output_type": "stream",
     "text": [
      "------------ PREDICTING TESTSET ----------------- - Noise value [dB] 0\n"
     ]
    },
    {
     "name": "stderr",
     "output_type": "stream",
     "text": [
      "100%|██████████| 85/85 [00:05<00:00, 15.99it/s]\n",
      "  0%|          | 0/85 [00:00<?, ?it/s]"
     ]
    },
    {
     "name": "stdout",
     "output_type": "stream",
     "text": [
      "------------ PREDICTING TESTSET ----------------- - Noise value [dB] 3\n"
     ]
    },
    {
     "name": "stderr",
     "output_type": "stream",
     "text": [
      "100%|██████████| 85/85 [00:05<00:00, 15.98it/s]\n",
      "  0%|          | 0/85 [00:00<?, ?it/s]"
     ]
    },
    {
     "name": "stdout",
     "output_type": "stream",
     "text": [
      "------------ PREDICTING TESTSET ----------------- - Noise value [dB] 6\n"
     ]
    },
    {
     "name": "stderr",
     "output_type": "stream",
     "text": [
      "100%|██████████| 85/85 [00:05<00:00, 15.92it/s]\n",
      "  0%|          | 0/85 [00:00<?, ?it/s]"
     ]
    },
    {
     "name": "stdout",
     "output_type": "stream",
     "text": [
      "------------ PREDICTING TESTSET ----------------- - Noise value [dB] 9\n"
     ]
    },
    {
     "name": "stderr",
     "output_type": "stream",
     "text": [
      "100%|██████████| 85/85 [00:05<00:00, 15.91it/s]\n",
      "  0%|          | 0/85 [00:00<?, ?it/s]"
     ]
    },
    {
     "name": "stdout",
     "output_type": "stream",
     "text": [
      "------------ PREDICTING TESTSET ----------------- - Noise value [dB] 12\n"
     ]
    },
    {
     "name": "stderr",
     "output_type": "stream",
     "text": [
      "100%|██████████| 85/85 [00:05<00:00, 15.95it/s]\n",
      "  0%|          | 0/85 [00:00<?, ?it/s]"
     ]
    },
    {
     "name": "stdout",
     "output_type": "stream",
     "text": [
      "------------ PREDICTING TESTSET ----------------- - Noise value [dB] 15\n"
     ]
    },
    {
     "name": "stderr",
     "output_type": "stream",
     "text": [
      "100%|██████████| 85/85 [00:05<00:00, 15.95it/s]\n",
      "  0%|          | 0/85 [00:00<?, ?it/s]"
     ]
    },
    {
     "name": "stdout",
     "output_type": "stream",
     "text": [
      "------------ PREDICTING TESTSET ----------------- - Noise value [dB] 18\n"
     ]
    },
    {
     "name": "stderr",
     "output_type": "stream",
     "text": [
      "100%|██████████| 85/85 [00:05<00:00, 15.97it/s]\n",
      "  0%|          | 0/85 [00:00<?, ?it/s]"
     ]
    },
    {
     "name": "stdout",
     "output_type": "stream",
     "text": [
      "------------ PREDICTING TESTSET ----------------- - Noise value [dB] 21\n"
     ]
    },
    {
     "name": "stderr",
     "output_type": "stream",
     "text": [
      "100%|██████████| 85/85 [00:05<00:00, 15.91it/s]\n",
      "  0%|          | 0/85 [00:00<?, ?it/s]"
     ]
    },
    {
     "name": "stdout",
     "output_type": "stream",
     "text": [
      "------------ PREDICTING TESTSET ----------------- - Noise value [dB] 24\n"
     ]
    },
    {
     "name": "stderr",
     "output_type": "stream",
     "text": [
      "100%|██████████| 85/85 [00:05<00:00, 15.96it/s]"
     ]
    },
    {
     "name": "stdout",
     "output_type": "stream",
     "text": [
      "------------ RUNNING  /scratch/fixmatch_results/new_runs/nr_of_labels/eurosat_rgb/FixMatch_archefficientnet-b0_batch32_confidence0.95_lr0.03_uratio7_wd0.00075_wu1.0_seed4_numlabels100_optSGD/model_best.pth  -----------------\n",
      "{'dataset': 'eurosat_rgb', 'net': 'efficientnet-b0', 'batch': 32, 'confidence': 0.95, 'lr': 0.03, 'uratio': 7, 'wd': 0.00075, 'wu': 1.0, 'seed': 4, 'numlabels': 100, 'opt': 'SGD', 'iterations': 0, 'batch_size': 256, 'data_dir': './data/', 'use_train_model': False, 'load_path': '/scratch/fixmatch_results/new_runs/nr_of_labels/eurosat_rgb/FixMatch_archefficientnet-b0_batch32_confidence0.95_lr0.03_uratio7_wd0.00075_wu1.0_seed4_numlabels100_optSGD/model_best.pth'}\n"
     ]
    },
    {
     "name": "stderr",
     "output_type": "stream",
     "text": [
      "\n"
     ]
    }
   ],
   "source": [
    "results = []\n",
    "for checkpoint, args in zip(checkpoints,run_args):\n",
    "    print(\"------------ RUNNING \", checkpoint, \" -----------------\")\n",
    "    print(args)\n",
    "    args[\"batch_size\"] = 256\n",
    "    args[\"data_dir\"] = \"./data/\"\n",
    "    args[\"use_train_model\"] = False\n",
    "    args[\"load_path\"] = checkpoint\n",
    "    \n",
    "    if args[\"seed\"] == seed_wanted:\n",
    "        checkpoint_path = os.path.join(args[\"load_path\"])\n",
    "        checkpoint = torch.load(checkpoint_path,map_location='cuda:0')\n",
    "        load_model = (checkpoint[\"train_model\"] if args[\"use_train_model\"] else checkpoint[\"eval_model\"])\n",
    "        _net_builder = net_builder(args[\"net\"],False,{})\n",
    "        _eval_dset = SSL_Dataset(name=args[\"dataset\"], train=False, data_dir=args[\"data_dir\"], seed=args[\"seed\"])\n",
    "        eval_dset = _eval_dset.get_dset()\n",
    "        inv_transf = _eval_dset.inv_transform\n",
    "        transf = _eval_dset.transform\n",
    "        net = _net_builder(num_classes=_eval_dset.num_classes, in_channels=_eval_dset.num_channels)\n",
    "        net.load_state_dict(load_model)\n",
    "        if torch.cuda.is_available():\n",
    "            net.cuda()\n",
    "        net.eval()\n",
    "                        \n",
    "        eval_loader = get_data_loader(eval_dset, args[\"batch\"], num_workers=1)\n",
    "        label_encoding = _eval_dset.label_encoding\n",
    "        dB_value_list = []\n",
    "        resuts_run = []\n",
    "        \n",
    "        for P_noise_dB in range(P_noise_dB_min, P_noise_dB_max, dP_noise_dB):\n",
    "            print(\"------------ PREDICTING TESTSET ----------------- - Noise value [dB]\", P_noise_dB)\n",
    "            \n",
    "            \n",
    "            images, labels, preds = [],[],[]\n",
    "            with torch.no_grad():\n",
    "                for image, target in tqdm(eval_loader):\n",
    "                    image_preprocessed=[]\n",
    "                    for idx,img in enumerate(image):\n",
    "                        img=255 * inv_transf(img.transpose(0,2).cpu().numpy())\n",
    "                        img_orig=img\n",
    "                        for n in range(img.shape[0]):\n",
    "                            img[n]=(0.5 + 0.75 * torch.rand(size=(1,))) * img[n]\n",
    "                        \n",
    "                        A_noise = (10**(P_noise_dB/20))\n",
    "                        noise=torch.randn(size=img.shape) * A_noise\n",
    "                        img+= noise\n",
    "                        \n",
    "                        image[idx] = transf(1/255*torch.clip(img, 0, 255).transpose(0,2).cpu().numpy())\n",
    "                            \n",
    "                    logit = net(image.cuda())\n",
    "                    preds.append(logit.cpu().max(1)[1])\n",
    "                    labels.append(target)\n",
    "            labels = torch.cat(labels).numpy()\n",
    "            preds = torch.cat(preds).numpy()\n",
    "            test_report = classification_report(labels, preds, target_names=label_encoding, output_dict=True)\n",
    "            test_report[\"params\"] = args\n",
    "            dB_value_list.append(\"P_noise_\"+str(P_noise_dB)+\"_dB\")\n",
    "            resuts_run.append(test_report)\n",
    "        results_noise_dict = dict(zip(dB_value_list, resuts_run))\n",
    "        results.append(results_noise_dict)"
   ]
  },
  {
   "cell_type": "markdown",
   "metadata": {},
   "source": [
    "## 4) - Creating a PANDAS dataframe and export it to CSV file"
   ]
  },
  {
   "cell_type": "code",
   "execution_count": 78,
   "metadata": {},
   "outputs": [
    {
     "name": "stdout",
     "output_type": "stream",
     "text": [
      "             batch pretrained supervised  confidence    lr  uratio       wd  \\\n",
      "dataset                                                                       \n",
      "eurosat_rgb     32      False      False        0.95  0.03       7  0.00075   \n",
      "eurosat_rgb     32      False      False        0.95  0.03       7  0.00075   \n",
      "eurosat_rgb     32      False      False        0.95  0.03       7  0.00075   \n",
      "eurosat_rgb     32      False      False        0.95  0.03       7  0.00075   \n",
      "eurosat_rgb     32      False      False        0.95  0.03       7  0.00075   \n",
      "eurosat_rgb     32      False      False        0.95  0.03       7  0.00075   \n",
      "\n",
      "              wu  numlabels  opt  iterations  \\\n",
      "dataset                                        \n",
      "eurosat_rgb  1.0         50  SGD      450000   \n",
      "eurosat_rgb  1.0        100  SGD      493000   \n",
      "eurosat_rgb  1.0        500  SGD      461000   \n",
      "eurosat_rgb  1.0       1000  SGD      478000   \n",
      "eurosat_rgb  1.0       2000  SGD      494000   \n",
      "eurosat_rgb  1.0       3000  SGD      495000   \n",
      "\n",
      "                                                     load_path  \\\n",
      "dataset                                                          \n",
      "eurosat_rgb  /scratch/fixmatch_results/new_runs/nr_of_label...   \n",
      "eurosat_rgb  /scratch/fixmatch_results/new_runs/nr_of_label...   \n",
      "eurosat_rgb  /scratch/fixmatch_results/new_runs/nr_of_label...   \n",
      "eurosat_rgb  /scratch/fixmatch_results/new_runs/nr_of_label...   \n",
      "eurosat_rgb  /scratch/fixmatch_results/new_runs/nr_of_label...   \n",
      "eurosat_rgb  /scratch/fixmatch_results/new_runs/nr_of_label...   \n",
      "\n",
      "             accuracy - [0dB]  accuracy - [3dB]  accuracy - [6dB]  \\\n",
      "dataset                                                             \n",
      "eurosat_rgb               NaN          0.864444          0.825926   \n",
      "eurosat_rgb               NaN          0.885556          0.872222   \n",
      "eurosat_rgb               NaN          0.870000          0.865926   \n",
      "eurosat_rgb               NaN          0.878519          0.860370   \n",
      "eurosat_rgb               NaN          0.875926          0.838148   \n",
      "eurosat_rgb               NaN          0.899630          0.896667   \n",
      "\n",
      "             accuracy - [9dB]  accuracy - [12dB]  accuracy - [15dB]  \\\n",
      "dataset                                                               \n",
      "eurosat_rgb          0.781852           0.712222           0.614444   \n",
      "eurosat_rgb          0.845926           0.792593           0.692963   \n",
      "eurosat_rgb          0.831852           0.768889           0.685185   \n",
      "eurosat_rgb          0.821111           0.750370           0.672963   \n",
      "eurosat_rgb          0.811481           0.743704           0.651481   \n",
      "eurosat_rgb          0.865185           0.807037           0.724074   \n",
      "\n",
      "             accuracy - [18dB]  accuracy - [21dB]              net  \\\n",
      "dataset                                                              \n",
      "eurosat_rgb           0.473704           0.341852  efficientnet-b2   \n",
      "eurosat_rgb           0.573704           0.439259  efficientnet-b2   \n",
      "eurosat_rgb           0.535926           0.395556  efficientnet-b2   \n",
      "eurosat_rgb           0.541111           0.400000  efficientnet-b2   \n",
      "eurosat_rgb           0.505926           0.368148  efficientnet-b2   \n",
      "eurosat_rgb           0.612593           0.480000  efficientnet-b2   \n",
      "\n",
      "             accuracy - [24dB]  \n",
      "dataset                         \n",
      "eurosat_rgb           0.230000  \n",
      "eurosat_rgb           0.290741  \n",
      "eurosat_rgb           0.260370  \n",
      "eurosat_rgb           0.278889  \n",
      "eurosat_rgb           0.244074  \n",
      "eurosat_rgb           0.343333  \n"
     ]
    }
   ],
   "source": [
    "big_df = pd.DataFrame()\n",
    "pd.set_option('display.max_columns', None)\n",
    "for result in results:\n",
    "    df = pd.DataFrame()\n",
    "    for dB_value in dB_value_list:\n",
    "        if dB_value == 'P_noise_0_dB':\n",
    "            result_0_dB = result['P_noise_0_dB']\n",
    "            params = result_0_dB[\"params\"]\n",
    "            df_local = pd.DataFrame(result_0_dB)\n",
    "            df_local.drop(list(params.keys()),inplace=True)\n",
    "            accuracy_0_dB = df_local['accuracy']\n",
    "            df_local.drop([\"support\",\"recall\",\"precision\"],inplace=True)\n",
    "            df_local.drop('accuracy',axis=1 ,inplace=True)\n",
    "            \n",
    "            for key,val in params.items():\n",
    "                df_local[key] = val\n",
    "                \n",
    "            df_local = df_local.set_index(\"dataset\")\n",
    "            df_local.insert(len(df_local.columns), 'accuracy - [0dB]', accuracy_0_dB)\n",
    "            #df_local = df_local.rename(columns={'accuracy': 'accuracy - [0dB]'})\n",
    "            \n",
    "            df=df_local\n",
    "        else:\n",
    "            results_n_dB = result[dB_value]\n",
    "            df.insert(len(df.columns), 'accuracy - ['+dB_value.replace(\"P_noise_\",\"\").replace(\"_dB\",\"\")+\"dB]\", results_n_dB[\"accuracy\"])\n",
    "\n",
    "    big_df = big_df.append(df)\n",
    "\n",
    "\n",
    "small_df = clean_results_df(big_df, folder,sort_criterion)\n",
    "print(small_df)\n",
    "small_df.to_csv(csv_folder + \"_test_results.csv\")"
   ]
  },
  {
   "cell_type": "markdown",
   "metadata": {},
   "source": [
    "## 5) - Creating plots"
   ]
  },
  {
   "cell_type": "code",
   "execution_count": 83,
   "metadata": {},
   "outputs": [
    {
     "data": {
      "text/plain": [
       "Text(0, 0.5, 'Accuracy [%]')"
      ]
     },
     "execution_count": 83,
     "metadata": {},
     "output_type": "execute_result"
    },
    {
     "data": {
      "image/png": "[encoded data removed]",
      "text/plain": [
       "<Figure size 432x288 with 1 Axes>"
      ]
     },
     "metadata": {
      "needs_background": "light"
     },
     "output_type": "display_data"
    }
   ],
   "source": [
    "import matplotlib.pyplot as plt\n",
    "\n",
    "for numlabels in small_df[\"numlabels\"]:\n",
    "    acc_numlabels=small_df.loc[small_df[\"numlabels\"] == numlabels]\n",
    "    accuracy_values = []\n",
    "    for dB_value in dB_value_list:\n",
    "        accuracy_values.append(acc_numlabels['accuracy - ['+dB_value.replace(\"P_noise_\",\"\").replace(\"_dB\",\"\")+\"dB]\"] * 100)\n",
    "    \n",
    "    plt.plot(np.arange(P_noise_dB_min, P_noise_dB_max, dP_noise_dB), accuracy_values)\n",
    "    \n",
    "\n",
    "plt.legend(small_df[\"numlabels\"])\n",
    "plt.xlabel('noise power [dB]')\n",
    "plt.ylabel('Accuracy [%]')\n",
    "    \n",
    "    \n",
    "    "
   ]
  },
  {
   "cell_type": "code",
   "execution_count": 9,
   "metadata": {},
   "outputs": [
    {
     "data": {
      "text/plain": [
       "<matplotlib.image.AxesImage at 0x7f11543b3eb0>"
      ]
     },
     "execution_count": 9,
     "metadata": {},
     "output_type": "execute_result"
    },
    {
     "data": {
      "image/png": "[encoded data removed]",
      "text/plain": [
       "<Figure size 432x288 with 1 Axes>"
      ]
     },
     "metadata": {
      "needs_background": "light"
     },
     "output_type": "display_data"
    }
   ],
   "source": [
    "import matplotlib.pyplot as plt\n",
    "image_plt=img.transpose(0,2).cpu().numpy()\n",
    "image_plt=(image_plt-image_plt.min()) / (image_plt.max() -image_plt.min())\n",
    "plt.imshow(image_plt-image_plt.min() / (image_plt.max() -image_plt.min()) * 255)"
   ]
  },
  {
   "cell_type": "code",
   "execution_count": 10,
   "metadata": {},
   "outputs": [
    {
     "data": {
      "text/html": [
       "<div>\n",
       "<style scoped>\n",
       "    .dataframe tbody tr th:only-of-type {\n",
       "        vertical-align: middle;\n",
       "    }\n",
       "\n",
       "    .dataframe tbody tr th {\n",
       "        vertical-align: top;\n",
       "    }\n",
       "\n",
       "    .dataframe thead th {\n",
       "        text-align: right;\n",
       "    }\n",
       "</style>\n",
       "<table border=\"1\" class=\"dataframe\">\n",
       "  <thead>\n",
       "    <tr style=\"text-align: right;\">\n",
       "      <th></th>\n",
       "      <th>AnnualCrop</th>\n",
       "      <th>Forest</th>\n",
       "      <th>HerbaceousVegetation</th>\n",
       "      <th>Highway</th>\n",
       "      <th>Industrial</th>\n",
       "      <th>Pasture</th>\n",
       "      <th>PermanentCrop</th>\n",
       "      <th>Residential</th>\n",
       "      <th>River</th>\n",
       "      <th>SeaLake</th>\n",
       "      <th>accuracy - [0dB]</th>\n",
       "      <th>macro avg</th>\n",
       "      <th>weighted avg</th>\n",
       "      <th>params</th>\n",
       "      <th>net</th>\n",
       "      <th>batch</th>\n",
       "      <th>confidence</th>\n",
       "      <th>lr</th>\n",
       "      <th>uratio</th>\n",
       "      <th>wd</th>\n",
       "      <th>wu</th>\n",
       "      <th>seed</th>\n",
       "      <th>numlabels</th>\n",
       "      <th>opt</th>\n",
       "      <th>iterations</th>\n",
       "      <th>batch_size</th>\n",
       "      <th>data_dir</th>\n",
       "      <th>use_train_model</th>\n",
       "      <th>load_path</th>\n",
       "      <th>accuracy - [3dB]</th>\n",
       "      <th>accuracy - [6dB]</th>\n",
       "      <th>accuracy - [9dB]</th>\n",
       "      <th>accuracy - [12dB]</th>\n",
       "      <th>accuracy - [15dB]</th>\n",
       "      <th>accuracy - [18dB]</th>\n",
       "      <th>accuracy - [21dB]</th>\n",
       "      <th>accuracy - [24dB]</th>\n",
       "    </tr>\n",
       "    <tr>\n",
       "      <th>dataset</th>\n",
       "      <th></th>\n",
       "      <th></th>\n",
       "      <th></th>\n",
       "      <th></th>\n",
       "      <th></th>\n",
       "      <th></th>\n",
       "      <th></th>\n",
       "      <th></th>\n",
       "      <th></th>\n",
       "      <th></th>\n",
       "      <th></th>\n",
       "      <th></th>\n",
       "      <th></th>\n",
       "      <th></th>\n",
       "      <th></th>\n",
       "      <th></th>\n",
       "      <th></th>\n",
       "      <th></th>\n",
       "      <th></th>\n",
       "      <th></th>\n",
       "      <th></th>\n",
       "      <th></th>\n",
       "      <th></th>\n",
       "      <th></th>\n",
       "      <th></th>\n",
       "      <th></th>\n",
       "      <th></th>\n",
       "      <th></th>\n",
       "      <th></th>\n",
       "      <th></th>\n",
       "      <th></th>\n",
       "      <th></th>\n",
       "      <th></th>\n",
       "      <th></th>\n",
       "      <th></th>\n",
       "      <th></th>\n",
       "      <th></th>\n",
       "    </tr>\n",
       "  </thead>\n",
       "  <tbody>\n",
       "    <tr>\n",
       "      <th>eurosat_rgb</th>\n",
       "      <td>0.942149</td>\n",
       "      <td>0.888169</td>\n",
       "      <td>0.836120</td>\n",
       "      <td>0.932000</td>\n",
       "      <td>0.843318</td>\n",
       "      <td>0.873508</td>\n",
       "      <td>0.773810</td>\n",
       "      <td>0.924590</td>\n",
       "      <td>0.954092</td>\n",
       "      <td>0.967320</td>\n",
       "      <td>0.896296</td>\n",
       "      <td>0.893508</td>\n",
       "      <td>0.895560</td>\n",
       "      <td>NaN</td>\n",
       "      <td>efficientnet-b2</td>\n",
       "      <td>32</td>\n",
       "      <td>0.95</td>\n",
       "      <td>0.03</td>\n",
       "      <td>7</td>\n",
       "      <td>0.00075</td>\n",
       "      <td>1.0</td>\n",
       "      <td>0</td>\n",
       "      <td>500</td>\n",
       "      <td>SGD</td>\n",
       "      <td>461000</td>\n",
       "      <td>256</td>\n",
       "      <td>./data/</td>\n",
       "      <td>False</td>\n",
       "      <td>/scratch/fixmatch_results/new_runs/nr_of_label...</td>\n",
       "      <td>0.894444</td>\n",
       "      <td>0.885556</td>\n",
       "      <td>0.899259</td>\n",
       "      <td>0.892593</td>\n",
       "      <td>0.893704</td>\n",
       "      <td>0.893704</td>\n",
       "      <td>0.898889</td>\n",
       "      <td>0.895185</td>\n",
       "    </tr>\n",
       "    <tr>\n",
       "      <th>eurosat_rgb</th>\n",
       "      <td>0.951261</td>\n",
       "      <td>0.948760</td>\n",
       "      <td>0.827481</td>\n",
       "      <td>0.946721</td>\n",
       "      <td>0.902386</td>\n",
       "      <td>0.900000</td>\n",
       "      <td>0.855967</td>\n",
       "      <td>0.917090</td>\n",
       "      <td>0.949698</td>\n",
       "      <td>0.980066</td>\n",
       "      <td>0.918148</td>\n",
       "      <td>0.917943</td>\n",
       "      <td>0.918922</td>\n",
       "      <td>NaN</td>\n",
       "      <td>efficientnet-b2</td>\n",
       "      <td>32</td>\n",
       "      <td>0.95</td>\n",
       "      <td>0.03</td>\n",
       "      <td>7</td>\n",
       "      <td>0.00075</td>\n",
       "      <td>1.0</td>\n",
       "      <td>0</td>\n",
       "      <td>3000</td>\n",
       "      <td>SGD</td>\n",
       "      <td>495000</td>\n",
       "      <td>256</td>\n",
       "      <td>./data/</td>\n",
       "      <td>False</td>\n",
       "      <td>/scratch/fixmatch_results/new_runs/nr_of_label...</td>\n",
       "      <td>0.918519</td>\n",
       "      <td>0.920000</td>\n",
       "      <td>0.913333</td>\n",
       "      <td>0.911481</td>\n",
       "      <td>0.919630</td>\n",
       "      <td>0.920000</td>\n",
       "      <td>0.920741</td>\n",
       "      <td>0.914444</td>\n",
       "    </tr>\n",
       "    <tr>\n",
       "      <th>eurosat_rgb</th>\n",
       "      <td>0.935537</td>\n",
       "      <td>0.933977</td>\n",
       "      <td>0.805324</td>\n",
       "      <td>0.957230</td>\n",
       "      <td>0.904762</td>\n",
       "      <td>0.870647</td>\n",
       "      <td>0.773438</td>\n",
       "      <td>0.951140</td>\n",
       "      <td>0.959184</td>\n",
       "      <td>0.983389</td>\n",
       "      <td>0.909259</td>\n",
       "      <td>0.907463</td>\n",
       "      <td>0.909479</td>\n",
       "      <td>NaN</td>\n",
       "      <td>efficientnet-b2</td>\n",
       "      <td>32</td>\n",
       "      <td>0.95</td>\n",
       "      <td>0.03</td>\n",
       "      <td>7</td>\n",
       "      <td>0.00075</td>\n",
       "      <td>1.0</td>\n",
       "      <td>0</td>\n",
       "      <td>100</td>\n",
       "      <td>SGD</td>\n",
       "      <td>493000</td>\n",
       "      <td>256</td>\n",
       "      <td>./data/</td>\n",
       "      <td>False</td>\n",
       "      <td>/scratch/fixmatch_results/new_runs/nr_of_label...</td>\n",
       "      <td>0.898889</td>\n",
       "      <td>0.907778</td>\n",
       "      <td>0.912963</td>\n",
       "      <td>0.910370</td>\n",
       "      <td>0.907037</td>\n",
       "      <td>0.908889</td>\n",
       "      <td>0.913333</td>\n",
       "      <td>0.907778</td>\n",
       "    </tr>\n",
       "    <tr>\n",
       "      <th>eurosat_rgb</th>\n",
       "      <td>0.931596</td>\n",
       "      <td>0.831563</td>\n",
       "      <td>0.814286</td>\n",
       "      <td>0.930612</td>\n",
       "      <td>0.904762</td>\n",
       "      <td>0.878641</td>\n",
       "      <td>0.815900</td>\n",
       "      <td>0.921273</td>\n",
       "      <td>0.947791</td>\n",
       "      <td>0.936508</td>\n",
       "      <td>0.891481</td>\n",
       "      <td>0.891293</td>\n",
       "      <td>0.891134</td>\n",
       "      <td>NaN</td>\n",
       "      <td>efficientnet-b2</td>\n",
       "      <td>32</td>\n",
       "      <td>0.95</td>\n",
       "      <td>0.03</td>\n",
       "      <td>7</td>\n",
       "      <td>0.00075</td>\n",
       "      <td>1.0</td>\n",
       "      <td>0</td>\n",
       "      <td>2000</td>\n",
       "      <td>SGD</td>\n",
       "      <td>494000</td>\n",
       "      <td>256</td>\n",
       "      <td>./data/</td>\n",
       "      <td>False</td>\n",
       "      <td>/scratch/fixmatch_results/new_runs/nr_of_label...</td>\n",
       "      <td>0.889259</td>\n",
       "      <td>0.883333</td>\n",
       "      <td>0.890000</td>\n",
       "      <td>0.885926</td>\n",
       "      <td>0.885185</td>\n",
       "      <td>0.883704</td>\n",
       "      <td>0.889630</td>\n",
       "      <td>0.893333</td>\n",
       "    </tr>\n",
       "    <tr>\n",
       "      <th>eurosat_rgb</th>\n",
       "      <td>0.930757</td>\n",
       "      <td>0.905085</td>\n",
       "      <td>0.823161</td>\n",
       "      <td>0.941176</td>\n",
       "      <td>0.893246</td>\n",
       "      <td>0.878860</td>\n",
       "      <td>0.782961</td>\n",
       "      <td>0.919861</td>\n",
       "      <td>0.955645</td>\n",
       "      <td>0.967427</td>\n",
       "      <td>0.900741</td>\n",
       "      <td>0.899818</td>\n",
       "      <td>0.901080</td>\n",
       "      <td>NaN</td>\n",
       "      <td>efficientnet-b2</td>\n",
       "      <td>32</td>\n",
       "      <td>0.95</td>\n",
       "      <td>0.03</td>\n",
       "      <td>7</td>\n",
       "      <td>0.00075</td>\n",
       "      <td>1.0</td>\n",
       "      <td>0</td>\n",
       "      <td>1000</td>\n",
       "      <td>SGD</td>\n",
       "      <td>478000</td>\n",
       "      <td>256</td>\n",
       "      <td>./data/</td>\n",
       "      <td>False</td>\n",
       "      <td>/scratch/fixmatch_results/new_runs/nr_of_label...</td>\n",
       "      <td>0.909259</td>\n",
       "      <td>0.907407</td>\n",
       "      <td>0.900000</td>\n",
       "      <td>0.904815</td>\n",
       "      <td>0.904815</td>\n",
       "      <td>0.910370</td>\n",
       "      <td>0.895926</td>\n",
       "      <td>0.897037</td>\n",
       "    </tr>\n",
       "    <tr>\n",
       "      <th>eurosat_rgb</th>\n",
       "      <td>0.920635</td>\n",
       "      <td>0.861154</td>\n",
       "      <td>0.807249</td>\n",
       "      <td>0.940695</td>\n",
       "      <td>0.882096</td>\n",
       "      <td>0.869779</td>\n",
       "      <td>0.746067</td>\n",
       "      <td>0.905473</td>\n",
       "      <td>0.930693</td>\n",
       "      <td>0.949593</td>\n",
       "      <td>0.883704</td>\n",
       "      <td>0.881343</td>\n",
       "      <td>0.882250</td>\n",
       "      <td>NaN</td>\n",
       "      <td>efficientnet-b2</td>\n",
       "      <td>32</td>\n",
       "      <td>0.95</td>\n",
       "      <td>0.03</td>\n",
       "      <td>7</td>\n",
       "      <td>0.00075</td>\n",
       "      <td>1.0</td>\n",
       "      <td>0</td>\n",
       "      <td>50</td>\n",
       "      <td>SGD</td>\n",
       "      <td>450000</td>\n",
       "      <td>256</td>\n",
       "      <td>./data/</td>\n",
       "      <td>False</td>\n",
       "      <td>/scratch/fixmatch_results/new_runs/nr_of_label...</td>\n",
       "      <td>0.888889</td>\n",
       "      <td>0.884074</td>\n",
       "      <td>0.881481</td>\n",
       "      <td>0.890741</td>\n",
       "      <td>0.884815</td>\n",
       "      <td>0.892593</td>\n",
       "      <td>0.892963</td>\n",
       "      <td>0.895185</td>\n",
       "    </tr>\n",
       "  </tbody>\n",
       "</table>\n",
       "</div>"
      ],
      "text/plain": [
       "             AnnualCrop    Forest  HerbaceousVegetation   Highway  Industrial  \\\n",
       "dataset                                                                         \n",
       "eurosat_rgb    0.942149  0.888169              0.836120  0.932000    0.843318   \n",
       "eurosat_rgb    0.951261  0.948760              0.827481  0.946721    0.902386   \n",
       "eurosat_rgb    0.935537  0.933977              0.805324  0.957230    0.904762   \n",
       "eurosat_rgb    0.931596  0.831563              0.814286  0.930612    0.904762   \n",
       "eurosat_rgb    0.930757  0.905085              0.823161  0.941176    0.893246   \n",
       "eurosat_rgb    0.920635  0.861154              0.807249  0.940695    0.882096   \n",
       "\n",
       "              Pasture  PermanentCrop  Residential     River   SeaLake  \\\n",
       "dataset                                                                 \n",
       "eurosat_rgb  0.873508       0.773810     0.924590  0.954092  0.967320   \n",
       "eurosat_rgb  0.900000       0.855967     0.917090  0.949698  0.980066   \n",
       "eurosat_rgb  0.870647       0.773438     0.951140  0.959184  0.983389   \n",
       "eurosat_rgb  0.878641       0.815900     0.921273  0.947791  0.936508   \n",
       "eurosat_rgb  0.878860       0.782961     0.919861  0.955645  0.967427   \n",
       "eurosat_rgb  0.869779       0.746067     0.905473  0.930693  0.949593   \n",
       "\n",
       "             accuracy - [0dB]  macro avg  weighted avg params  \\\n",
       "dataset                                                         \n",
       "eurosat_rgb          0.896296   0.893508      0.895560    NaN   \n",
       "eurosat_rgb          0.918148   0.917943      0.918922    NaN   \n",
       "eurosat_rgb          0.909259   0.907463      0.909479    NaN   \n",
       "eurosat_rgb          0.891481   0.891293      0.891134    NaN   \n",
       "eurosat_rgb          0.900741   0.899818      0.901080    NaN   \n",
       "eurosat_rgb          0.883704   0.881343      0.882250    NaN   \n",
       "\n",
       "                         net  batch  confidence    lr  uratio       wd   wu  \\\n",
       "dataset                                                                       \n",
       "eurosat_rgb  efficientnet-b2     32        0.95  0.03       7  0.00075  1.0   \n",
       "eurosat_rgb  efficientnet-b2     32        0.95  0.03       7  0.00075  1.0   \n",
       "eurosat_rgb  efficientnet-b2     32        0.95  0.03       7  0.00075  1.0   \n",
       "eurosat_rgb  efficientnet-b2     32        0.95  0.03       7  0.00075  1.0   \n",
       "eurosat_rgb  efficientnet-b2     32        0.95  0.03       7  0.00075  1.0   \n",
       "eurosat_rgb  efficientnet-b2     32        0.95  0.03       7  0.00075  1.0   \n",
       "\n",
       "             seed  numlabels  opt  iterations  batch_size data_dir  \\\n",
       "dataset                                                              \n",
       "eurosat_rgb     0        500  SGD      461000         256  ./data/   \n",
       "eurosat_rgb     0       3000  SGD      495000         256  ./data/   \n",
       "eurosat_rgb     0        100  SGD      493000         256  ./data/   \n",
       "eurosat_rgb     0       2000  SGD      494000         256  ./data/   \n",
       "eurosat_rgb     0       1000  SGD      478000         256  ./data/   \n",
       "eurosat_rgb     0         50  SGD      450000         256  ./data/   \n",
       "\n",
       "             use_train_model  \\\n",
       "dataset                        \n",
       "eurosat_rgb            False   \n",
       "eurosat_rgb            False   \n",
       "eurosat_rgb            False   \n",
       "eurosat_rgb            False   \n",
       "eurosat_rgb            False   \n",
       "eurosat_rgb            False   \n",
       "\n",
       "                                                     load_path  \\\n",
       "dataset                                                          \n",
       "eurosat_rgb  /scratch/fixmatch_results/new_runs/nr_of_label...   \n",
       "eurosat_rgb  /scratch/fixmatch_results/new_runs/nr_of_label...   \n",
       "eurosat_rgb  /scratch/fixmatch_results/new_runs/nr_of_label...   \n",
       "eurosat_rgb  /scratch/fixmatch_results/new_runs/nr_of_label...   \n",
       "eurosat_rgb  /scratch/fixmatch_results/new_runs/nr_of_label...   \n",
       "eurosat_rgb  /scratch/fixmatch_results/new_runs/nr_of_label...   \n",
       "\n",
       "             accuracy - [3dB]  accuracy - [6dB]  accuracy - [9dB]  \\\n",
       "dataset                                                             \n",
       "eurosat_rgb          0.894444          0.885556          0.899259   \n",
       "eurosat_rgb          0.918519          0.920000          0.913333   \n",
       "eurosat_rgb          0.898889          0.907778          0.912963   \n",
       "eurosat_rgb          0.889259          0.883333          0.890000   \n",
       "eurosat_rgb          0.909259          0.907407          0.900000   \n",
       "eurosat_rgb          0.888889          0.884074          0.881481   \n",
       "\n",
       "             accuracy - [12dB]  accuracy - [15dB]  accuracy - [18dB]  \\\n",
       "dataset                                                                \n",
       "eurosat_rgb           0.892593           0.893704           0.893704   \n",
       "eurosat_rgb           0.911481           0.919630           0.920000   \n",
       "eurosat_rgb           0.910370           0.907037           0.908889   \n",
       "eurosat_rgb           0.885926           0.885185           0.883704   \n",
       "eurosat_rgb           0.904815           0.904815           0.910370   \n",
       "eurosat_rgb           0.890741           0.884815           0.892593   \n",
       "\n",
       "             accuracy - [21dB]  accuracy - [24dB]  \n",
       "dataset                                            \n",
       "eurosat_rgb           0.898889           0.895185  \n",
       "eurosat_rgb           0.920741           0.914444  \n",
       "eurosat_rgb           0.913333           0.907778  \n",
       "eurosat_rgb           0.889630           0.893333  \n",
       "eurosat_rgb           0.895926           0.897037  \n",
       "eurosat_rgb           0.892963           0.895185  "
      ]
     },
     "execution_count": 10,
     "metadata": {},
     "output_type": "execute_result"
    }
   ],
   "source": [
    "big_df"
   ]
  },
  {
   "cell_type": "code",
   "execution_count": 11,
   "metadata": {},
   "outputs": [
    {
     "data": {
      "text/html": [
       "<div>\n",
       "<style scoped>\n",
       "    .dataframe tbody tr th:only-of-type {\n",
       "        vertical-align: middle;\n",
       "    }\n",
       "\n",
       "    .dataframe tbody tr th {\n",
       "        vertical-align: top;\n",
       "    }\n",
       "\n",
       "    .dataframe thead th {\n",
       "        text-align: right;\n",
       "    }\n",
       "</style>\n",
       "<table border=\"1\" class=\"dataframe\">\n",
       "  <thead>\n",
       "    <tr style=\"text-align: right;\">\n",
       "      <th></th>\n",
       "      <th>AnnualCrop</th>\n",
       "      <th>Forest</th>\n",
       "      <th>HerbaceousVegetation</th>\n",
       "      <th>Highway</th>\n",
       "      <th>Industrial</th>\n",
       "      <th>Pasture</th>\n",
       "      <th>PermanentCrop</th>\n",
       "      <th>Residential</th>\n",
       "      <th>River</th>\n",
       "      <th>SeaLake</th>\n",
       "      <th>accuracy - [0dB]</th>\n",
       "      <th>macro avg</th>\n",
       "      <th>weighted avg</th>\n",
       "      <th>params</th>\n",
       "      <th>net</th>\n",
       "      <th>batch</th>\n",
       "      <th>confidence</th>\n",
       "      <th>lr</th>\n",
       "      <th>uratio</th>\n",
       "      <th>wd</th>\n",
       "      <th>wu</th>\n",
       "      <th>seed</th>\n",
       "      <th>numlabels</th>\n",
       "      <th>opt</th>\n",
       "      <th>iterations</th>\n",
       "      <th>batch_size</th>\n",
       "      <th>data_dir</th>\n",
       "      <th>use_train_model</th>\n",
       "      <th>load_path</th>\n",
       "      <th>accuracy - [3dB]</th>\n",
       "      <th>accuracy - [6dB]</th>\n",
       "      <th>accuracy - [9dB]</th>\n",
       "      <th>accuracy - [12dB]</th>\n",
       "      <th>accuracy - [15dB]</th>\n",
       "      <th>accuracy - [18dB]</th>\n",
       "      <th>accuracy - [21dB]</th>\n",
       "      <th>accuracy - [24dB]</th>\n",
       "    </tr>\n",
       "    <tr>\n",
       "      <th>dataset</th>\n",
       "      <th></th>\n",
       "      <th></th>\n",
       "      <th></th>\n",
       "      <th></th>\n",
       "      <th></th>\n",
       "      <th></th>\n",
       "      <th></th>\n",
       "      <th></th>\n",
       "      <th></th>\n",
       "      <th></th>\n",
       "      <th></th>\n",
       "      <th></th>\n",
       "      <th></th>\n",
       "      <th></th>\n",
       "      <th></th>\n",
       "      <th></th>\n",
       "      <th></th>\n",
       "      <th></th>\n",
       "      <th></th>\n",
       "      <th></th>\n",
       "      <th></th>\n",
       "      <th></th>\n",
       "      <th></th>\n",
       "      <th></th>\n",
       "      <th></th>\n",
       "      <th></th>\n",
       "      <th></th>\n",
       "      <th></th>\n",
       "      <th></th>\n",
       "      <th></th>\n",
       "      <th></th>\n",
       "      <th></th>\n",
       "      <th></th>\n",
       "      <th></th>\n",
       "      <th></th>\n",
       "      <th></th>\n",
       "      <th></th>\n",
       "    </tr>\n",
       "  </thead>\n",
       "  <tbody>\n",
       "    <tr>\n",
       "      <th>eurosat_rgb</th>\n",
       "      <td>0.942149</td>\n",
       "      <td>0.888169</td>\n",
       "      <td>0.836120</td>\n",
       "      <td>0.932000</td>\n",
       "      <td>0.843318</td>\n",
       "      <td>0.873508</td>\n",
       "      <td>0.773810</td>\n",
       "      <td>0.924590</td>\n",
       "      <td>0.954092</td>\n",
       "      <td>0.967320</td>\n",
       "      <td>0.896296</td>\n",
       "      <td>0.893508</td>\n",
       "      <td>0.895560</td>\n",
       "      <td>NaN</td>\n",
       "      <td>efficientnet-b2</td>\n",
       "      <td>32</td>\n",
       "      <td>0.95</td>\n",
       "      <td>0.03</td>\n",
       "      <td>7</td>\n",
       "      <td>0.00075</td>\n",
       "      <td>1.0</td>\n",
       "      <td>0</td>\n",
       "      <td>500</td>\n",
       "      <td>SGD</td>\n",
       "      <td>461000</td>\n",
       "      <td>256</td>\n",
       "      <td>./data/</td>\n",
       "      <td>False</td>\n",
       "      <td>/scratch/fixmatch_results/new_runs/nr_of_label...</td>\n",
       "      <td>0.894444</td>\n",
       "      <td>0.885556</td>\n",
       "      <td>0.899259</td>\n",
       "      <td>0.892593</td>\n",
       "      <td>0.893704</td>\n",
       "      <td>0.893704</td>\n",
       "      <td>0.898889</td>\n",
       "      <td>0.895185</td>\n",
       "    </tr>\n",
       "    <tr>\n",
       "      <th>eurosat_rgb</th>\n",
       "      <td>0.951261</td>\n",
       "      <td>0.948760</td>\n",
       "      <td>0.827481</td>\n",
       "      <td>0.946721</td>\n",
       "      <td>0.902386</td>\n",
       "      <td>0.900000</td>\n",
       "      <td>0.855967</td>\n",
       "      <td>0.917090</td>\n",
       "      <td>0.949698</td>\n",
       "      <td>0.980066</td>\n",
       "      <td>0.918148</td>\n",
       "      <td>0.917943</td>\n",
       "      <td>0.918922</td>\n",
       "      <td>NaN</td>\n",
       "      <td>efficientnet-b2</td>\n",
       "      <td>32</td>\n",
       "      <td>0.95</td>\n",
       "      <td>0.03</td>\n",
       "      <td>7</td>\n",
       "      <td>0.00075</td>\n",
       "      <td>1.0</td>\n",
       "      <td>0</td>\n",
       "      <td>3000</td>\n",
       "      <td>SGD</td>\n",
       "      <td>495000</td>\n",
       "      <td>256</td>\n",
       "      <td>./data/</td>\n",
       "      <td>False</td>\n",
       "      <td>/scratch/fixmatch_results/new_runs/nr_of_label...</td>\n",
       "      <td>0.918519</td>\n",
       "      <td>0.920000</td>\n",
       "      <td>0.913333</td>\n",
       "      <td>0.911481</td>\n",
       "      <td>0.919630</td>\n",
       "      <td>0.920000</td>\n",
       "      <td>0.920741</td>\n",
       "      <td>0.914444</td>\n",
       "    </tr>\n",
       "    <tr>\n",
       "      <th>eurosat_rgb</th>\n",
       "      <td>0.935537</td>\n",
       "      <td>0.933977</td>\n",
       "      <td>0.805324</td>\n",
       "      <td>0.957230</td>\n",
       "      <td>0.904762</td>\n",
       "      <td>0.870647</td>\n",
       "      <td>0.773438</td>\n",
       "      <td>0.951140</td>\n",
       "      <td>0.959184</td>\n",
       "      <td>0.983389</td>\n",
       "      <td>0.909259</td>\n",
       "      <td>0.907463</td>\n",
       "      <td>0.909479</td>\n",
       "      <td>NaN</td>\n",
       "      <td>efficientnet-b2</td>\n",
       "      <td>32</td>\n",
       "      <td>0.95</td>\n",
       "      <td>0.03</td>\n",
       "      <td>7</td>\n",
       "      <td>0.00075</td>\n",
       "      <td>1.0</td>\n",
       "      <td>0</td>\n",
       "      <td>100</td>\n",
       "      <td>SGD</td>\n",
       "      <td>493000</td>\n",
       "      <td>256</td>\n",
       "      <td>./data/</td>\n",
       "      <td>False</td>\n",
       "      <td>/scratch/fixmatch_results/new_runs/nr_of_label...</td>\n",
       "      <td>0.898889</td>\n",
       "      <td>0.907778</td>\n",
       "      <td>0.912963</td>\n",
       "      <td>0.910370</td>\n",
       "      <td>0.907037</td>\n",
       "      <td>0.908889</td>\n",
       "      <td>0.913333</td>\n",
       "      <td>0.907778</td>\n",
       "    </tr>\n",
       "    <tr>\n",
       "      <th>eurosat_rgb</th>\n",
       "      <td>0.931596</td>\n",
       "      <td>0.831563</td>\n",
       "      <td>0.814286</td>\n",
       "      <td>0.930612</td>\n",
       "      <td>0.904762</td>\n",
       "      <td>0.878641</td>\n",
       "      <td>0.815900</td>\n",
       "      <td>0.921273</td>\n",
       "      <td>0.947791</td>\n",
       "      <td>0.936508</td>\n",
       "      <td>0.891481</td>\n",
       "      <td>0.891293</td>\n",
       "      <td>0.891134</td>\n",
       "      <td>NaN</td>\n",
       "      <td>efficientnet-b2</td>\n",
       "      <td>32</td>\n",
       "      <td>0.95</td>\n",
       "      <td>0.03</td>\n",
       "      <td>7</td>\n",
       "      <td>0.00075</td>\n",
       "      <td>1.0</td>\n",
       "      <td>0</td>\n",
       "      <td>2000</td>\n",
       "      <td>SGD</td>\n",
       "      <td>494000</td>\n",
       "      <td>256</td>\n",
       "      <td>./data/</td>\n",
       "      <td>False</td>\n",
       "      <td>/scratch/fixmatch_results/new_runs/nr_of_label...</td>\n",
       "      <td>0.889259</td>\n",
       "      <td>0.883333</td>\n",
       "      <td>0.890000</td>\n",
       "      <td>0.885926</td>\n",
       "      <td>0.885185</td>\n",
       "      <td>0.883704</td>\n",
       "      <td>0.889630</td>\n",
       "      <td>0.893333</td>\n",
       "    </tr>\n",
       "    <tr>\n",
       "      <th>eurosat_rgb</th>\n",
       "      <td>0.930757</td>\n",
       "      <td>0.905085</td>\n",
       "      <td>0.823161</td>\n",
       "      <td>0.941176</td>\n",
       "      <td>0.893246</td>\n",
       "      <td>0.878860</td>\n",
       "      <td>0.782961</td>\n",
       "      <td>0.919861</td>\n",
       "      <td>0.955645</td>\n",
       "      <td>0.967427</td>\n",
       "      <td>0.900741</td>\n",
       "      <td>0.899818</td>\n",
       "      <td>0.901080</td>\n",
       "      <td>NaN</td>\n",
       "      <td>efficientnet-b2</td>\n",
       "      <td>32</td>\n",
       "      <td>0.95</td>\n",
       "      <td>0.03</td>\n",
       "      <td>7</td>\n",
       "      <td>0.00075</td>\n",
       "      <td>1.0</td>\n",
       "      <td>0</td>\n",
       "      <td>1000</td>\n",
       "      <td>SGD</td>\n",
       "      <td>478000</td>\n",
       "      <td>256</td>\n",
       "      <td>./data/</td>\n",
       "      <td>False</td>\n",
       "      <td>/scratch/fixmatch_results/new_runs/nr_of_label...</td>\n",
       "      <td>0.909259</td>\n",
       "      <td>0.907407</td>\n",
       "      <td>0.900000</td>\n",
       "      <td>0.904815</td>\n",
       "      <td>0.904815</td>\n",
       "      <td>0.910370</td>\n",
       "      <td>0.895926</td>\n",
       "      <td>0.897037</td>\n",
       "    </tr>\n",
       "    <tr>\n",
       "      <th>eurosat_rgb</th>\n",
       "      <td>0.920635</td>\n",
       "      <td>0.861154</td>\n",
       "      <td>0.807249</td>\n",
       "      <td>0.940695</td>\n",
       "      <td>0.882096</td>\n",
       "      <td>0.869779</td>\n",
       "      <td>0.746067</td>\n",
       "      <td>0.905473</td>\n",
       "      <td>0.930693</td>\n",
       "      <td>0.949593</td>\n",
       "      <td>0.883704</td>\n",
       "      <td>0.881343</td>\n",
       "      <td>0.882250</td>\n",
       "      <td>NaN</td>\n",
       "      <td>efficientnet-b2</td>\n",
       "      <td>32</td>\n",
       "      <td>0.95</td>\n",
       "      <td>0.03</td>\n",
       "      <td>7</td>\n",
       "      <td>0.00075</td>\n",
       "      <td>1.0</td>\n",
       "      <td>0</td>\n",
       "      <td>50</td>\n",
       "      <td>SGD</td>\n",
       "      <td>450000</td>\n",
       "      <td>256</td>\n",
       "      <td>./data/</td>\n",
       "      <td>False</td>\n",
       "      <td>/scratch/fixmatch_results/new_runs/nr_of_label...</td>\n",
       "      <td>0.888889</td>\n",
       "      <td>0.884074</td>\n",
       "      <td>0.881481</td>\n",
       "      <td>0.890741</td>\n",
       "      <td>0.884815</td>\n",
       "      <td>0.892593</td>\n",
       "      <td>0.892963</td>\n",
       "      <td>0.895185</td>\n",
       "    </tr>\n",
       "  </tbody>\n",
       "</table>\n",
       "</div>"
      ],
      "text/plain": [
       "             AnnualCrop    Forest  HerbaceousVegetation   Highway  Industrial  \\\n",
       "dataset                                                                         \n",
       "eurosat_rgb    0.942149  0.888169              0.836120  0.932000    0.843318   \n",
       "eurosat_rgb    0.951261  0.948760              0.827481  0.946721    0.902386   \n",
       "eurosat_rgb    0.935537  0.933977              0.805324  0.957230    0.904762   \n",
       "eurosat_rgb    0.931596  0.831563              0.814286  0.930612    0.904762   \n",
       "eurosat_rgb    0.930757  0.905085              0.823161  0.941176    0.893246   \n",
       "eurosat_rgb    0.920635  0.861154              0.807249  0.940695    0.882096   \n",
       "\n",
       "              Pasture  PermanentCrop  Residential     River   SeaLake  \\\n",
       "dataset                                                                 \n",
       "eurosat_rgb  0.873508       0.773810     0.924590  0.954092  0.967320   \n",
       "eurosat_rgb  0.900000       0.855967     0.917090  0.949698  0.980066   \n",
       "eurosat_rgb  0.870647       0.773438     0.951140  0.959184  0.983389   \n",
       "eurosat_rgb  0.878641       0.815900     0.921273  0.947791  0.936508   \n",
       "eurosat_rgb  0.878860       0.782961     0.919861  0.955645  0.967427   \n",
       "eurosat_rgb  0.869779       0.746067     0.905473  0.930693  0.949593   \n",
       "\n",
       "             accuracy - [0dB]  macro avg  weighted avg params  \\\n",
       "dataset                                                         \n",
       "eurosat_rgb          0.896296   0.893508      0.895560    NaN   \n",
       "eurosat_rgb          0.918148   0.917943      0.918922    NaN   \n",
       "eurosat_rgb          0.909259   0.907463      0.909479    NaN   \n",
       "eurosat_rgb          0.891481   0.891293      0.891134    NaN   \n",
       "eurosat_rgb          0.900741   0.899818      0.901080    NaN   \n",
       "eurosat_rgb          0.883704   0.881343      0.882250    NaN   \n",
       "\n",
       "                         net  batch  confidence    lr  uratio       wd   wu  \\\n",
       "dataset                                                                       \n",
       "eurosat_rgb  efficientnet-b2     32        0.95  0.03       7  0.00075  1.0   \n",
       "eurosat_rgb  efficientnet-b2     32        0.95  0.03       7  0.00075  1.0   \n",
       "eurosat_rgb  efficientnet-b2     32        0.95  0.03       7  0.00075  1.0   \n",
       "eurosat_rgb  efficientnet-b2     32        0.95  0.03       7  0.00075  1.0   \n",
       "eurosat_rgb  efficientnet-b2     32        0.95  0.03       7  0.00075  1.0   \n",
       "eurosat_rgb  efficientnet-b2     32        0.95  0.03       7  0.00075  1.0   \n",
       "\n",
       "             seed  numlabels  opt  iterations  batch_size data_dir  \\\n",
       "dataset                                                              \n",
       "eurosat_rgb     0        500  SGD      461000         256  ./data/   \n",
       "eurosat_rgb     0       3000  SGD      495000         256  ./data/   \n",
       "eurosat_rgb     0        100  SGD      493000         256  ./data/   \n",
       "eurosat_rgb     0       2000  SGD      494000         256  ./data/   \n",
       "eurosat_rgb     0       1000  SGD      478000         256  ./data/   \n",
       "eurosat_rgb     0         50  SGD      450000         256  ./data/   \n",
       "\n",
       "             use_train_model  \\\n",
       "dataset                        \n",
       "eurosat_rgb            False   \n",
       "eurosat_rgb            False   \n",
       "eurosat_rgb            False   \n",
       "eurosat_rgb            False   \n",
       "eurosat_rgb            False   \n",
       "eurosat_rgb            False   \n",
       "\n",
       "                                                     load_path  \\\n",
       "dataset                                                          \n",
       "eurosat_rgb  /scratch/fixmatch_results/new_runs/nr_of_label...   \n",
       "eurosat_rgb  /scratch/fixmatch_results/new_runs/nr_of_label...   \n",
       "eurosat_rgb  /scratch/fixmatch_results/new_runs/nr_of_label...   \n",
       "eurosat_rgb  /scratch/fixmatch_results/new_runs/nr_of_label...   \n",
       "eurosat_rgb  /scratch/fixmatch_results/new_runs/nr_of_label...   \n",
       "eurosat_rgb  /scratch/fixmatch_results/new_runs/nr_of_label...   \n",
       "\n",
       "             accuracy - [3dB]  accuracy - [6dB]  accuracy - [9dB]  \\\n",
       "dataset                                                             \n",
       "eurosat_rgb          0.894444          0.885556          0.899259   \n",
       "eurosat_rgb          0.918519          0.920000          0.913333   \n",
       "eurosat_rgb          0.898889          0.907778          0.912963   \n",
       "eurosat_rgb          0.889259          0.883333          0.890000   \n",
       "eurosat_rgb          0.909259          0.907407          0.900000   \n",
       "eurosat_rgb          0.888889          0.884074          0.881481   \n",
       "\n",
       "             accuracy - [12dB]  accuracy - [15dB]  accuracy - [18dB]  \\\n",
       "dataset                                                                \n",
       "eurosat_rgb           0.892593           0.893704           0.893704   \n",
       "eurosat_rgb           0.911481           0.919630           0.920000   \n",
       "eurosat_rgb           0.910370           0.907037           0.908889   \n",
       "eurosat_rgb           0.885926           0.885185           0.883704   \n",
       "eurosat_rgb           0.904815           0.904815           0.910370   \n",
       "eurosat_rgb           0.890741           0.884815           0.892593   \n",
       "\n",
       "             accuracy - [21dB]  accuracy - [24dB]  \n",
       "dataset                                            \n",
       "eurosat_rgb           0.898889           0.895185  \n",
       "eurosat_rgb           0.920741           0.914444  \n",
       "eurosat_rgb           0.913333           0.907778  \n",
       "eurosat_rgb           0.889630           0.893333  \n",
       "eurosat_rgb           0.895926           0.897037  \n",
       "eurosat_rgb           0.892963           0.895185  "
      ]
     },
     "execution_count": 11,
     "metadata": {},
     "output_type": "execute_result"
    }
   ],
   "source": [
    "big_df"
   ]
  },
  {
   "cell_type": "code",
   "execution_count": null,
   "metadata": {},
   "outputs": [],
   "source": []
  },
  {
   "cell_type": "code",
   "execution_count": null,
   "metadata": {},
   "outputs": [],
   "source": []
  }
 ],
 "metadata": {
  "kernelspec": {
   "display_name": "Python 3",
   "language": "python",
   "name": "python3"
  },
  "language_info": {
   "codemirror_mode": {
    "name": "ipython",
    "version": 3
   },
   "file_extension": ".py",
   "mimetype": "text/x-python",
   "name": "python",
   "nbconvert_exporter": "python",
   "pygments_lexer": "ipython3",
   "version": "3.8.6"
  }
 },
 "nbformat": 4,
 "nbformat_minor": 4
}
