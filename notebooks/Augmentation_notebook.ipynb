{
 "cells": [
  {
   "cell_type": "code",
   "execution_count": null,
   "metadata": {},
   "outputs": [],
   "source": [
    "import sys\n",
    "sys.path.insert(1,\"..\")\n",
    "from datasets.augmentation.randaugment import RandAugment\n",
    "import matplotlib.pyplot as plt\n",
    "import random\n",
    "from PIL import Image\n",
    "import os\n",
    "from torchvision import transforms"
   ]
  },
  {
   "cell_type": "markdown",
   "metadata": {},
   "source": [
    "## 1 - Control flags and  image paths"
   ]
  },
  {
   "cell_type": "code",
   "execution_count": null,
   "metadata": {},
   "outputs": [],
   "source": [
    "img_path=\"../data/EuroSAT_RGB/Highway/Highway_61.jpg\" #img path\n",
    "augmented_dir=\"..\"\n",
    "augmentation_type = \"weak\" #Supported: strong, weak"
   ]
  },
  {
   "cell_type": "markdown",
   "metadata": {},
   "source": [
    "## 2- Opening and plotting the original image"
   ]
  },
  {
   "cell_type": "code",
   "execution_count": null,
   "metadata": {},
   "outputs": [],
   "source": [
    "img = Image.open(img_path)"
   ]
  },
  {
   "cell_type": "code",
   "execution_count": null,
   "metadata": {},
   "outputs": [],
   "source": [
    "image_name = img_path[img_path.rfind('/')+1:img_path.rfind('.')] #finding image name\n",
    "plt.title(\"Original image: \"+ str(image_name), fontsize=14, fontweight='bold')\n",
    "plt.imshow(img)"
   ]
  },
  {
   "cell_type": "code",
   "execution_count": null,
   "metadata": {},
   "outputs": [],
   "source": [
    "if augmentation_type == \"weak\":\n",
    "    transform = transforms.Compose(\n",
    "            [\n",
    "                transforms.ToTensor(),\n",
    "                transforms.RandomHorizontalFlip(),\n",
    "                transforms.RandomCrop(64, padding=4)\n",
    "            ]\n",
    "        )\n",
    "    img = transform(img).permute(1, 2,0)\n",
    "    \n",
    "    \n",
    "else: \n",
    "    randaugment = RandAugment(3, 5, False)\n",
    "    #it might be useful to extract specific augmentation transforms from the list. \n",
    "    #randaugment_dict = {\"AutoContrast\" : 0, \"Brightness\" : 1, \"Color\" : 2, \"Contrast\" : 3,\"Equalize\" : 4,\"Identity\" : 5,\"Posterize\" : 6,\"Rotate\" : 7,\"Sharpness\" : 8,\"ShearX\" : 9,\"ShearY\" : 10,\"Solarize\" : 11,\"TranslateX\" : 12,\"Translate\" : 13}\n",
    "    for op, min_val, max_val in randaugment.augment_list:\n",
    "        val = min_val + float(max_val - min_val) * random.random()\n",
    "        print(op)\n",
    "        img = op(img, val)\n",
    "    "
   ]
  },
  {
   "cell_type": "markdown",
   "metadata": {},
   "source": [
    " ## 3- Plotting and saving the augmented image"
   ]
  },
  {
   "cell_type": "code",
   "execution_count": null,
   "metadata": {},
   "outputs": [],
   "source": [
    "plt.title(\"Augmented image: \"+ str(image_name), fontsize=14, fontweight='bold')\n",
    "plt.imshow(img)\n",
    "augmented_dir = os.path.join(augmented_dir,image_name+\"_\"+augmentation_type+\".png\")\n",
    "print(\"Saving augmented image at: \",augmented_dir)\n",
    "plt.savefig(augmented_dir)"
   ]
  },
  {
   "cell_type": "code",
   "execution_count": null,
   "metadata": {},
   "outputs": [],
   "source": []
  }
 ],
 "metadata": {
  "kernelspec": {
   "display_name": "Python 3",
   "language": "python",
   "name": "python3"
  },
  "language_info": {
   "codemirror_mode": {
    "name": "ipython",
    "version": 3
   },
   "file_extension": ".py",
   "mimetype": "text/x-python",
   "name": "python",
   "nbconvert_exporter": "python",
   "pygments_lexer": "ipython3",
   "version": "3.8.6"
  }
 },
 "nbformat": 4,
 "nbformat_minor": 4
}
